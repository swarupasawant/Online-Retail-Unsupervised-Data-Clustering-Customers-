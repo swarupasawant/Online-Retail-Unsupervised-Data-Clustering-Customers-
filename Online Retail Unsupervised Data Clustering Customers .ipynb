{
 "cells": [
  {
   "cell_type": "markdown",
   "id": "43aabc2f",
   "metadata": {},
   "source": [
    "The main goal is to cluster all the customers according to \n",
    "their attributes and gain more information about various customer patterns."
   ]
  },
  {
   "cell_type": "code",
   "execution_count": 1,
   "id": "237b25b1",
   "metadata": {},
   "outputs": [],
   "source": [
    "import numpy as np   \n",
    "import pandas as pd    \n",
    "import matplotlib.pyplot as plt \n",
    "from sklearn.cluster import KMeans\n",
    "from scipy.stats import zscore\n",
    "from sklearn.metrics import silhouette_samples, silhouette_score\n",
    "import seaborn as sns\n",
    "%matplotlib inline \n",
    "sns.set(color_codes=True)\n",
    "%matplotlib inline\n",
    "import warnings\n",
    "warnings.filterwarnings('ignore')\n",
    "import datetime as dt"
   ]
  },
  {
   "cell_type": "code",
   "execution_count": 2,
   "id": "0377ba8e",
   "metadata": {},
   "outputs": [],
   "source": [
    "df = pd.read_excel(\"F:\\iNeuron\\online_retail_II.xlsx\")"
   ]
  },
  {
   "cell_type": "code",
   "execution_count": 3,
   "id": "a2044cf4",
   "metadata": {},
   "outputs": [
    {
     "data": {
      "text/html": [
       "<div>\n",
       "<style scoped>\n",
       "    .dataframe tbody tr th:only-of-type {\n",
       "        vertical-align: middle;\n",
       "    }\n",
       "\n",
       "    .dataframe tbody tr th {\n",
       "        vertical-align: top;\n",
       "    }\n",
       "\n",
       "    .dataframe thead th {\n",
       "        text-align: right;\n",
       "    }\n",
       "</style>\n",
       "<table border=\"1\" class=\"dataframe\">\n",
       "  <thead>\n",
       "    <tr style=\"text-align: right;\">\n",
       "      <th></th>\n",
       "      <th>Invoice</th>\n",
       "      <th>StockCode</th>\n",
       "      <th>Description</th>\n",
       "      <th>Quantity</th>\n",
       "      <th>InvoiceDate</th>\n",
       "      <th>Price</th>\n",
       "      <th>Customer ID</th>\n",
       "      <th>Country</th>\n",
       "    </tr>\n",
       "  </thead>\n",
       "  <tbody>\n",
       "    <tr>\n",
       "      <th>0</th>\n",
       "      <td>489434</td>\n",
       "      <td>85048</td>\n",
       "      <td>15CM CHRISTMAS GLASS BALL 20 LIGHTS</td>\n",
       "      <td>12</td>\n",
       "      <td>2009-12-01 07:45:00</td>\n",
       "      <td>6.95</td>\n",
       "      <td>13085.0</td>\n",
       "      <td>United Kingdom</td>\n",
       "    </tr>\n",
       "    <tr>\n",
       "      <th>1</th>\n",
       "      <td>489434</td>\n",
       "      <td>79323P</td>\n",
       "      <td>PINK CHERRY LIGHTS</td>\n",
       "      <td>12</td>\n",
       "      <td>2009-12-01 07:45:00</td>\n",
       "      <td>6.75</td>\n",
       "      <td>13085.0</td>\n",
       "      <td>United Kingdom</td>\n",
       "    </tr>\n",
       "  </tbody>\n",
       "</table>\n",
       "</div>"
      ],
      "text/plain": [
       "  Invoice StockCode                          Description  Quantity  \\\n",
       "0  489434     85048  15CM CHRISTMAS GLASS BALL 20 LIGHTS        12   \n",
       "1  489434    79323P                   PINK CHERRY LIGHTS        12   \n",
       "\n",
       "          InvoiceDate  Price  Customer ID         Country  \n",
       "0 2009-12-01 07:45:00   6.95      13085.0  United Kingdom  \n",
       "1 2009-12-01 07:45:00   6.75      13085.0  United Kingdom  "
      ]
     },
     "execution_count": 3,
     "metadata": {},
     "output_type": "execute_result"
    }
   ],
   "source": [
    "df.head(2)"
   ]
  },
  {
   "cell_type": "code",
   "execution_count": 4,
   "id": "dab266e1",
   "metadata": {},
   "outputs": [
    {
     "name": "stdout",
     "output_type": "stream",
     "text": [
      "The dataset contains 525461 rows and 8 columns.\n"
     ]
    }
   ],
   "source": [
    "#checking for the dimension of the data\n",
    "rows, column = df.shape\n",
    "print('The dataset contains', rows, 'rows and', column, 'columns.')"
   ]
  },
  {
   "cell_type": "code",
   "execution_count": 5,
   "id": "476ce168",
   "metadata": {},
   "outputs": [
    {
     "name": "stdout",
     "output_type": "stream",
     "text": [
      "<class 'pandas.core.frame.DataFrame'>\n",
      "RangeIndex: 525461 entries, 0 to 525460\n",
      "Data columns (total 8 columns):\n",
      "Invoice        525461 non-null object\n",
      "StockCode      525461 non-null object\n",
      "Description    522533 non-null object\n",
      "Quantity       525461 non-null int64\n",
      "InvoiceDate    525461 non-null datetime64[ns]\n",
      "Price          525461 non-null float64\n",
      "Customer ID    417534 non-null float64\n",
      "Country        525461 non-null object\n",
      "dtypes: datetime64[ns](1), float64(2), int64(1), object(4)\n",
      "memory usage: 32.1+ MB\n"
     ]
    }
   ],
   "source": [
    "df.info()"
   ]
  },
  {
   "cell_type": "code",
   "execution_count": 6,
   "id": "73a888be",
   "metadata": {},
   "outputs": [
    {
     "data": {
      "text/plain": [
       "Invoice             0\n",
       "StockCode           0\n",
       "Description      2928\n",
       "Quantity            0\n",
       "InvoiceDate         0\n",
       "Price               0\n",
       "Customer ID    107927\n",
       "Country             0\n",
       "dtype: int64"
      ]
     },
     "execution_count": 6,
     "metadata": {},
     "output_type": "execute_result"
    }
   ],
   "source": [
    "df.isnull().sum()"
   ]
  },
  {
   "cell_type": "code",
   "execution_count": 7,
   "id": "ce8150c3",
   "metadata": {},
   "outputs": [
    {
     "data": {
      "text/html": [
       "<div>\n",
       "<style scoped>\n",
       "    .dataframe tbody tr th:only-of-type {\n",
       "        vertical-align: middle;\n",
       "    }\n",
       "\n",
       "    .dataframe tbody tr th {\n",
       "        vertical-align: top;\n",
       "    }\n",
       "\n",
       "    .dataframe thead th {\n",
       "        text-align: right;\n",
       "    }\n",
       "</style>\n",
       "<table border=\"1\" class=\"dataframe\">\n",
       "  <thead>\n",
       "    <tr style=\"text-align: right;\">\n",
       "      <th></th>\n",
       "      <th>Invoice</th>\n",
       "      <th>StockCode</th>\n",
       "      <th>Description</th>\n",
       "      <th>Quantity</th>\n",
       "      <th>InvoiceDate</th>\n",
       "      <th>Price</th>\n",
       "      <th>Customer ID</th>\n",
       "      <th>Country</th>\n",
       "    </tr>\n",
       "  </thead>\n",
       "  <tbody>\n",
       "    <tr>\n",
       "      <th>0</th>\n",
       "      <td>489434</td>\n",
       "      <td>85048</td>\n",
       "      <td>15CM CHRISTMAS GLASS BALL 20 LIGHTS</td>\n",
       "      <td>12</td>\n",
       "      <td>2009-12-01 07:45:00</td>\n",
       "      <td>6.95</td>\n",
       "      <td>13085.0</td>\n",
       "      <td>United Kingdom</td>\n",
       "    </tr>\n",
       "    <tr>\n",
       "      <th>1</th>\n",
       "      <td>489434</td>\n",
       "      <td>79323P</td>\n",
       "      <td>PINK CHERRY LIGHTS</td>\n",
       "      <td>12</td>\n",
       "      <td>2009-12-01 07:45:00</td>\n",
       "      <td>6.75</td>\n",
       "      <td>13085.0</td>\n",
       "      <td>United Kingdom</td>\n",
       "    </tr>\n",
       "  </tbody>\n",
       "</table>\n",
       "</div>"
      ],
      "text/plain": [
       "  Invoice StockCode                          Description  Quantity  \\\n",
       "0  489434     85048  15CM CHRISTMAS GLASS BALL 20 LIGHTS        12   \n",
       "1  489434    79323P                   PINK CHERRY LIGHTS        12   \n",
       "\n",
       "          InvoiceDate  Price  Customer ID         Country  \n",
       "0 2009-12-01 07:45:00   6.95      13085.0  United Kingdom  \n",
       "1 2009-12-01 07:45:00   6.75      13085.0  United Kingdom  "
      ]
     },
     "execution_count": 7,
     "metadata": {},
     "output_type": "execute_result"
    }
   ],
   "source": [
    "#Droping null values\n",
    "data = df.dropna()\n",
    "data.head(2)"
   ]
  },
  {
   "cell_type": "code",
   "execution_count": 8,
   "id": "83818726",
   "metadata": {},
   "outputs": [
    {
     "data": {
      "text/plain": [
       "Invoice        0\n",
       "StockCode      0\n",
       "Description    0\n",
       "Quantity       0\n",
       "InvoiceDate    0\n",
       "Price          0\n",
       "Customer ID    0\n",
       "Country        0\n",
       "dtype: int64"
      ]
     },
     "execution_count": 8,
     "metadata": {},
     "output_type": "execute_result"
    }
   ],
   "source": [
    "data.isnull().sum()"
   ]
  },
  {
   "cell_type": "code",
   "execution_count": 9,
   "id": "ba03e85e",
   "metadata": {},
   "outputs": [
    {
     "data": {
      "text/plain": [
       "6771"
      ]
     },
     "execution_count": 9,
     "metadata": {},
     "output_type": "execute_result"
    }
   ],
   "source": [
    "#Removing duplicates\n",
    "data.duplicated().sum()"
   ]
  },
  {
   "cell_type": "code",
   "execution_count": 10,
   "id": "ca191152",
   "metadata": {},
   "outputs": [],
   "source": [
    "dataset=data.drop_duplicates()"
   ]
  },
  {
   "cell_type": "code",
   "execution_count": 11,
   "id": "7eca0ebc",
   "metadata": {},
   "outputs": [
    {
     "data": {
      "text/plain": [
       "(410763, 8)"
      ]
     },
     "execution_count": 11,
     "metadata": {},
     "output_type": "execute_result"
    }
   ],
   "source": [
    "dataset.shape"
   ]
  },
  {
   "cell_type": "code",
   "execution_count": 12,
   "id": "cfb3087e",
   "metadata": {},
   "outputs": [
    {
     "data": {
      "text/html": [
       "<div>\n",
       "<style scoped>\n",
       "    .dataframe tbody tr th:only-of-type {\n",
       "        vertical-align: middle;\n",
       "    }\n",
       "\n",
       "    .dataframe tbody tr th {\n",
       "        vertical-align: top;\n",
       "    }\n",
       "\n",
       "    .dataframe thead th {\n",
       "        text-align: right;\n",
       "    }\n",
       "</style>\n",
       "<table border=\"1\" class=\"dataframe\">\n",
       "  <thead>\n",
       "    <tr style=\"text-align: right;\">\n",
       "      <th></th>\n",
       "      <th>Invoice</th>\n",
       "      <th>StockCode</th>\n",
       "      <th>Description</th>\n",
       "      <th>Quantity</th>\n",
       "      <th>InvoiceDate</th>\n",
       "      <th>Price</th>\n",
       "      <th>Customer ID</th>\n",
       "      <th>Country</th>\n",
       "    </tr>\n",
       "  </thead>\n",
       "  <tbody>\n",
       "    <tr>\n",
       "      <th>0</th>\n",
       "      <td>489434</td>\n",
       "      <td>85048</td>\n",
       "      <td>15CM CHRISTMAS GLASS BALL 20 LIGHTS</td>\n",
       "      <td>12</td>\n",
       "      <td>2009-12-01 07:45:00</td>\n",
       "      <td>6.95</td>\n",
       "      <td>13085.0</td>\n",
       "      <td>United Kingdom</td>\n",
       "    </tr>\n",
       "    <tr>\n",
       "      <th>1</th>\n",
       "      <td>489434</td>\n",
       "      <td>79323P</td>\n",
       "      <td>PINK CHERRY LIGHTS</td>\n",
       "      <td>12</td>\n",
       "      <td>2009-12-01 07:45:00</td>\n",
       "      <td>6.75</td>\n",
       "      <td>13085.0</td>\n",
       "      <td>United Kingdom</td>\n",
       "    </tr>\n",
       "  </tbody>\n",
       "</table>\n",
       "</div>"
      ],
      "text/plain": [
       "  Invoice StockCode                          Description  Quantity  \\\n",
       "0  489434     85048  15CM CHRISTMAS GLASS BALL 20 LIGHTS        12   \n",
       "1  489434    79323P                   PINK CHERRY LIGHTS        12   \n",
       "\n",
       "          InvoiceDate  Price  Customer ID         Country  \n",
       "0 2009-12-01 07:45:00   6.95      13085.0  United Kingdom  \n",
       "1 2009-12-01 07:45:00   6.75      13085.0  United Kingdom  "
      ]
     },
     "execution_count": 12,
     "metadata": {},
     "output_type": "execute_result"
    }
   ],
   "source": [
    "dataset.head(2)"
   ]
  },
  {
   "cell_type": "code",
   "execution_count": 13,
   "id": "ba0414ef",
   "metadata": {},
   "outputs": [
    {
     "data": {
      "text/plain": [
       "0   2009-12-01 07:45:00\n",
       "1   2009-12-01 07:45:00\n",
       "2   2009-12-01 07:45:00\n",
       "3   2009-12-01 07:45:00\n",
       "4   2009-12-01 07:45:00\n",
       "Name: InvoiceDate, dtype: datetime64[ns]"
      ]
     },
     "execution_count": 13,
     "metadata": {},
     "output_type": "execute_result"
    }
   ],
   "source": [
    "dataset['InvoiceDate'].head()"
   ]
  },
  {
   "cell_type": "code",
   "execution_count": 14,
   "id": "3ab0314e",
   "metadata": {},
   "outputs": [],
   "source": [
    "##Fetaure Engineering Process\n",
    "dataset['Dates'] = pd.to_datetime(dataset['InvoiceDate']).dt.date"
   ]
  },
  {
   "cell_type": "code",
   "execution_count": 15,
   "id": "6d40f644",
   "metadata": {},
   "outputs": [],
   "source": [
    "import datetime\n",
    "dataset['Date']=pd.to_datetime(dataset['Dates']) "
   ]
  },
  {
   "cell_type": "code",
   "execution_count": 16,
   "id": "d7c02314",
   "metadata": {},
   "outputs": [
    {
     "data": {
      "text/html": [
       "<div>\n",
       "<style scoped>\n",
       "    .dataframe tbody tr th:only-of-type {\n",
       "        vertical-align: middle;\n",
       "    }\n",
       "\n",
       "    .dataframe tbody tr th {\n",
       "        vertical-align: top;\n",
       "    }\n",
       "\n",
       "    .dataframe thead th {\n",
       "        text-align: right;\n",
       "    }\n",
       "</style>\n",
       "<table border=\"1\" class=\"dataframe\">\n",
       "  <thead>\n",
       "    <tr style=\"text-align: right;\">\n",
       "      <th></th>\n",
       "      <th>Invoice</th>\n",
       "      <th>StockCode</th>\n",
       "      <th>Description</th>\n",
       "      <th>Quantity</th>\n",
       "      <th>InvoiceDate</th>\n",
       "      <th>Price</th>\n",
       "      <th>Customer ID</th>\n",
       "      <th>Country</th>\n",
       "      <th>Dates</th>\n",
       "      <th>Date</th>\n",
       "    </tr>\n",
       "  </thead>\n",
       "  <tbody>\n",
       "    <tr>\n",
       "      <th>0</th>\n",
       "      <td>489434</td>\n",
       "      <td>85048</td>\n",
       "      <td>15CM CHRISTMAS GLASS BALL 20 LIGHTS</td>\n",
       "      <td>12</td>\n",
       "      <td>2009-12-01 07:45:00</td>\n",
       "      <td>6.95</td>\n",
       "      <td>13085.0</td>\n",
       "      <td>United Kingdom</td>\n",
       "      <td>2009-12-01</td>\n",
       "      <td>2009-12-01</td>\n",
       "    </tr>\n",
       "    <tr>\n",
       "      <th>1</th>\n",
       "      <td>489434</td>\n",
       "      <td>79323P</td>\n",
       "      <td>PINK CHERRY LIGHTS</td>\n",
       "      <td>12</td>\n",
       "      <td>2009-12-01 07:45:00</td>\n",
       "      <td>6.75</td>\n",
       "      <td>13085.0</td>\n",
       "      <td>United Kingdom</td>\n",
       "      <td>2009-12-01</td>\n",
       "      <td>2009-12-01</td>\n",
       "    </tr>\n",
       "  </tbody>\n",
       "</table>\n",
       "</div>"
      ],
      "text/plain": [
       "  Invoice StockCode                          Description  Quantity  \\\n",
       "0  489434     85048  15CM CHRISTMAS GLASS BALL 20 LIGHTS        12   \n",
       "1  489434    79323P                   PINK CHERRY LIGHTS        12   \n",
       "\n",
       "          InvoiceDate  Price  Customer ID         Country       Dates  \\\n",
       "0 2009-12-01 07:45:00   6.95      13085.0  United Kingdom  2009-12-01   \n",
       "1 2009-12-01 07:45:00   6.75      13085.0  United Kingdom  2009-12-01   \n",
       "\n",
       "        Date  \n",
       "0 2009-12-01  \n",
       "1 2009-12-01  "
      ]
     },
     "execution_count": 16,
     "metadata": {},
     "output_type": "execute_result"
    }
   ],
   "source": [
    "# dataset['year'] = dataset['Date'].dt.year\n",
    "dataset.head(2)"
   ]
  },
  {
   "cell_type": "code",
   "execution_count": 17,
   "id": "2ca1181a",
   "metadata": {},
   "outputs": [
    {
     "data": {
      "text/html": [
       "<div>\n",
       "<style scoped>\n",
       "    .dataframe tbody tr th:only-of-type {\n",
       "        vertical-align: middle;\n",
       "    }\n",
       "\n",
       "    .dataframe tbody tr th {\n",
       "        vertical-align: top;\n",
       "    }\n",
       "\n",
       "    .dataframe thead th {\n",
       "        text-align: right;\n",
       "    }\n",
       "</style>\n",
       "<table border=\"1\" class=\"dataframe\">\n",
       "  <thead>\n",
       "    <tr style=\"text-align: right;\">\n",
       "      <th></th>\n",
       "      <th>Invoice</th>\n",
       "      <th>StockCode</th>\n",
       "      <th>Description</th>\n",
       "      <th>Quantity</th>\n",
       "      <th>Price</th>\n",
       "      <th>Customer ID</th>\n",
       "      <th>Country</th>\n",
       "      <th>Date</th>\n",
       "    </tr>\n",
       "  </thead>\n",
       "  <tbody>\n",
       "    <tr>\n",
       "      <th>0</th>\n",
       "      <td>489434</td>\n",
       "      <td>85048</td>\n",
       "      <td>15CM CHRISTMAS GLASS BALL 20 LIGHTS</td>\n",
       "      <td>12</td>\n",
       "      <td>6.95</td>\n",
       "      <td>13085.0</td>\n",
       "      <td>United Kingdom</td>\n",
       "      <td>2009-12-01</td>\n",
       "    </tr>\n",
       "    <tr>\n",
       "      <th>1</th>\n",
       "      <td>489434</td>\n",
       "      <td>79323P</td>\n",
       "      <td>PINK CHERRY LIGHTS</td>\n",
       "      <td>12</td>\n",
       "      <td>6.75</td>\n",
       "      <td>13085.0</td>\n",
       "      <td>United Kingdom</td>\n",
       "      <td>2009-12-01</td>\n",
       "    </tr>\n",
       "  </tbody>\n",
       "</table>\n",
       "</div>"
      ],
      "text/plain": [
       "  Invoice StockCode                          Description  Quantity  Price  \\\n",
       "0  489434     85048  15CM CHRISTMAS GLASS BALL 20 LIGHTS        12   6.95   \n",
       "1  489434    79323P                   PINK CHERRY LIGHTS        12   6.75   \n",
       "\n",
       "   Customer ID         Country       Date  \n",
       "0      13085.0  United Kingdom 2009-12-01  \n",
       "1      13085.0  United Kingdom 2009-12-01  "
      ]
     },
     "execution_count": 17,
     "metadata": {},
     "output_type": "execute_result"
    }
   ],
   "source": [
    "new_data = dataset.drop(['InvoiceDate','Dates'],axis = 1)\n",
    "new_data.head(2)"
   ]
  },
  {
   "cell_type": "code",
   "execution_count": 18,
   "id": "2bb8e0c8",
   "metadata": {},
   "outputs": [],
   "source": [
    "# new_data = new_data.drop(['Invoice'],axis = 1)"
   ]
  },
  {
   "cell_type": "code",
   "execution_count": 19,
   "id": "c7d3d354",
   "metadata": {},
   "outputs": [
    {
     "name": "stdout",
     "output_type": "stream",
     "text": [
      "<class 'pandas.core.frame.DataFrame'>\n",
      "Int64Index: 410763 entries, 0 to 525460\n",
      "Data columns (total 8 columns):\n",
      "Invoice        410763 non-null object\n",
      "StockCode      410763 non-null object\n",
      "Description    410763 non-null object\n",
      "Quantity       410763 non-null int64\n",
      "Price          410763 non-null float64\n",
      "Customer ID    410763 non-null float64\n",
      "Country        410763 non-null object\n",
      "Date           410763 non-null datetime64[ns]\n",
      "dtypes: datetime64[ns](1), float64(2), int64(1), object(4)\n",
      "memory usage: 28.2+ MB\n"
     ]
    }
   ],
   "source": [
    "new_data.info()"
   ]
  },
  {
   "cell_type": "code",
   "execution_count": 20,
   "id": "d8123f93",
   "metadata": {},
   "outputs": [
    {
     "data": {
      "text/plain": [
       "['Quantity', 'Price', 'Customer ID', 'Date']"
      ]
     },
     "execution_count": 20,
     "metadata": {},
     "output_type": "execute_result"
    }
   ],
   "source": [
    "neumerical_feature=[feature for feature in new_data.columns if new_data[feature].dtypes!='O']\n",
    "neumerical_feature"
   ]
  },
  {
   "cell_type": "code",
   "execution_count": 21,
   "id": "1d285d15",
   "metadata": {},
   "outputs": [
    {
     "data": {
      "text/plain": [
       "['Invoice', 'StockCode', 'Description', 'Country']"
      ]
     },
     "execution_count": 21,
     "metadata": {},
     "output_type": "execute_result"
    }
   ],
   "source": [
    "categorical_feature=[feature for feature in new_data.columns if new_data[feature].dtypes=='O']\n",
    "len(categorical_feature)\n",
    "categorical_feature"
   ]
  },
  {
   "cell_type": "code",
   "execution_count": 22,
   "id": "3e1c52d7",
   "metadata": {},
   "outputs": [
    {
     "data": {
      "text/html": [
       "<div>\n",
       "<style scoped>\n",
       "    .dataframe tbody tr th:only-of-type {\n",
       "        vertical-align: middle;\n",
       "    }\n",
       "\n",
       "    .dataframe tbody tr th {\n",
       "        vertical-align: top;\n",
       "    }\n",
       "\n",
       "    .dataframe thead th {\n",
       "        text-align: right;\n",
       "    }\n",
       "</style>\n",
       "<table border=\"1\" class=\"dataframe\">\n",
       "  <thead>\n",
       "    <tr style=\"text-align: right;\">\n",
       "      <th></th>\n",
       "      <th>count</th>\n",
       "      <th>mean</th>\n",
       "      <th>std</th>\n",
       "      <th>min</th>\n",
       "      <th>25%</th>\n",
       "      <th>50%</th>\n",
       "      <th>75%</th>\n",
       "      <th>max</th>\n",
       "    </tr>\n",
       "  </thead>\n",
       "  <tbody>\n",
       "    <tr>\n",
       "      <th>Quantity</th>\n",
       "      <td>410763.0</td>\n",
       "      <td>12.923735</td>\n",
       "      <td>102.039550</td>\n",
       "      <td>-9360.0</td>\n",
       "      <td>2.00</td>\n",
       "      <td>5.00</td>\n",
       "      <td>12.00</td>\n",
       "      <td>19152.00</td>\n",
       "    </tr>\n",
       "    <tr>\n",
       "      <th>Price</th>\n",
       "      <td>410763.0</td>\n",
       "      <td>3.908358</td>\n",
       "      <td>71.714794</td>\n",
       "      <td>0.0</td>\n",
       "      <td>1.25</td>\n",
       "      <td>1.95</td>\n",
       "      <td>3.75</td>\n",
       "      <td>25111.09</td>\n",
       "    </tr>\n",
       "    <tr>\n",
       "      <th>Customer ID</th>\n",
       "      <td>410763.0</td>\n",
       "      <td>15353.621857</td>\n",
       "      <td>1681.657665</td>\n",
       "      <td>12346.0</td>\n",
       "      <td>13979.00</td>\n",
       "      <td>15311.00</td>\n",
       "      <td>16797.00</td>\n",
       "      <td>18287.00</td>\n",
       "    </tr>\n",
       "  </tbody>\n",
       "</table>\n",
       "</div>"
      ],
      "text/plain": [
       "                count          mean          std      min       25%       50%  \\\n",
       "Quantity     410763.0     12.923735   102.039550  -9360.0      2.00      5.00   \n",
       "Price        410763.0      3.908358    71.714794      0.0      1.25      1.95   \n",
       "Customer ID  410763.0  15353.621857  1681.657665  12346.0  13979.00  15311.00   \n",
       "\n",
       "                  75%       max  \n",
       "Quantity        12.00  19152.00  \n",
       "Price            3.75  25111.09  \n",
       "Customer ID  16797.00  18287.00  "
      ]
     },
     "execution_count": 22,
     "metadata": {},
     "output_type": "execute_result"
    }
   ],
   "source": [
    "new_data.describe().T"
   ]
  },
  {
   "cell_type": "markdown",
   "id": "9fbecb5f",
   "metadata": {},
   "source": [
    "Note:Here we have taken ‘Count’ of each invoices for each customer\n",
    "so that we can get a total number of invoices for each customer.\n",
    "To find out how many times a Customer has visited the store by the column Invoice."
   ]
  },
  {
   "cell_type": "code",
   "execution_count": 23,
   "id": "b55d55fb",
   "metadata": {},
   "outputs": [
    {
     "data": {
      "text/html": [
       "<div>\n",
       "<style scoped>\n",
       "    .dataframe tbody tr th:only-of-type {\n",
       "        vertical-align: middle;\n",
       "    }\n",
       "\n",
       "    .dataframe tbody tr th {\n",
       "        vertical-align: top;\n",
       "    }\n",
       "\n",
       "    .dataframe thead th {\n",
       "        text-align: right;\n",
       "    }\n",
       "</style>\n",
       "<table border=\"1\" class=\"dataframe\">\n",
       "  <thead>\n",
       "    <tr style=\"text-align: right;\">\n",
       "      <th></th>\n",
       "      <th>Customer ID</th>\n",
       "      <th>Invoice</th>\n",
       "    </tr>\n",
       "  </thead>\n",
       "  <tbody>\n",
       "    <tr>\n",
       "      <th>0</th>\n",
       "      <td>12346.0</td>\n",
       "      <td>45</td>\n",
       "    </tr>\n",
       "    <tr>\n",
       "      <th>1</th>\n",
       "      <td>12347.0</td>\n",
       "      <td>71</td>\n",
       "    </tr>\n",
       "    <tr>\n",
       "      <th>2</th>\n",
       "      <td>12348.0</td>\n",
       "      <td>20</td>\n",
       "    </tr>\n",
       "    <tr>\n",
       "      <th>3</th>\n",
       "      <td>12349.0</td>\n",
       "      <td>107</td>\n",
       "    </tr>\n",
       "    <tr>\n",
       "      <th>4</th>\n",
       "      <td>12351.0</td>\n",
       "      <td>21</td>\n",
       "    </tr>\n",
       "  </tbody>\n",
       "</table>\n",
       "</div>"
      ],
      "text/plain": [
       "   Customer ID  Invoice\n",
       "0      12346.0       45\n",
       "1      12347.0       71\n",
       "2      12348.0       20\n",
       "3      12349.0      107\n",
       "4      12351.0       21"
      ]
     },
     "execution_count": 23,
     "metadata": {},
     "output_type": "execute_result"
    }
   ],
   "source": [
    "data1=new_data.copy()\n",
    "customer_freq = data1.groupby('Customer ID')['Invoice'].count()\n",
    "customer_freq = customer_freq.reset_index()\n",
    "customer_freq.head()"
   ]
  },
  {
   "cell_type": "markdown",
   "id": "5e506f1a",
   "metadata": {},
   "source": [
    "created column as total amount according to the unit price and quantity purchased."
   ]
  },
  {
   "cell_type": "code",
   "execution_count": 24,
   "id": "68ada6ce",
   "metadata": {},
   "outputs": [
    {
     "data": {
      "text/html": [
       "<div>\n",
       "<style scoped>\n",
       "    .dataframe tbody tr th:only-of-type {\n",
       "        vertical-align: middle;\n",
       "    }\n",
       "\n",
       "    .dataframe tbody tr th {\n",
       "        vertical-align: top;\n",
       "    }\n",
       "\n",
       "    .dataframe thead th {\n",
       "        text-align: right;\n",
       "    }\n",
       "</style>\n",
       "<table border=\"1\" class=\"dataframe\">\n",
       "  <thead>\n",
       "    <tr style=\"text-align: right;\">\n",
       "      <th></th>\n",
       "      <th>Invoice</th>\n",
       "      <th>StockCode</th>\n",
       "      <th>Description</th>\n",
       "      <th>Quantity</th>\n",
       "      <th>Price</th>\n",
       "      <th>Customer ID</th>\n",
       "      <th>Country</th>\n",
       "      <th>Date</th>\n",
       "      <th>Total_amount</th>\n",
       "    </tr>\n",
       "  </thead>\n",
       "  <tbody>\n",
       "    <tr>\n",
       "      <th>0</th>\n",
       "      <td>489434</td>\n",
       "      <td>85048</td>\n",
       "      <td>15CM CHRISTMAS GLASS BALL 20 LIGHTS</td>\n",
       "      <td>12</td>\n",
       "      <td>6.95</td>\n",
       "      <td>13085.0</td>\n",
       "      <td>United Kingdom</td>\n",
       "      <td>2009-12-01</td>\n",
       "      <td>83.4</td>\n",
       "    </tr>\n",
       "    <tr>\n",
       "      <th>1</th>\n",
       "      <td>489434</td>\n",
       "      <td>79323P</td>\n",
       "      <td>PINK CHERRY LIGHTS</td>\n",
       "      <td>12</td>\n",
       "      <td>6.75</td>\n",
       "      <td>13085.0</td>\n",
       "      <td>United Kingdom</td>\n",
       "      <td>2009-12-01</td>\n",
       "      <td>81.0</td>\n",
       "    </tr>\n",
       "    <tr>\n",
       "      <th>2</th>\n",
       "      <td>489434</td>\n",
       "      <td>79323W</td>\n",
       "      <td>WHITE CHERRY LIGHTS</td>\n",
       "      <td>12</td>\n",
       "      <td>6.75</td>\n",
       "      <td>13085.0</td>\n",
       "      <td>United Kingdom</td>\n",
       "      <td>2009-12-01</td>\n",
       "      <td>81.0</td>\n",
       "    </tr>\n",
       "    <tr>\n",
       "      <th>3</th>\n",
       "      <td>489434</td>\n",
       "      <td>22041</td>\n",
       "      <td>RECORD FRAME 7\" SINGLE SIZE</td>\n",
       "      <td>48</td>\n",
       "      <td>2.10</td>\n",
       "      <td>13085.0</td>\n",
       "      <td>United Kingdom</td>\n",
       "      <td>2009-12-01</td>\n",
       "      <td>100.8</td>\n",
       "    </tr>\n",
       "    <tr>\n",
       "      <th>4</th>\n",
       "      <td>489434</td>\n",
       "      <td>21232</td>\n",
       "      <td>STRAWBERRY CERAMIC TRINKET BOX</td>\n",
       "      <td>24</td>\n",
       "      <td>1.25</td>\n",
       "      <td>13085.0</td>\n",
       "      <td>United Kingdom</td>\n",
       "      <td>2009-12-01</td>\n",
       "      <td>30.0</td>\n",
       "    </tr>\n",
       "  </tbody>\n",
       "</table>\n",
       "</div>"
      ],
      "text/plain": [
       "  Invoice StockCode                          Description  Quantity  Price  \\\n",
       "0  489434     85048  15CM CHRISTMAS GLASS BALL 20 LIGHTS        12   6.95   \n",
       "1  489434    79323P                   PINK CHERRY LIGHTS        12   6.75   \n",
       "2  489434    79323W                  WHITE CHERRY LIGHTS        12   6.75   \n",
       "3  489434     22041         RECORD FRAME 7\" SINGLE SIZE         48   2.10   \n",
       "4  489434     21232       STRAWBERRY CERAMIC TRINKET BOX        24   1.25   \n",
       "\n",
       "   Customer ID         Country       Date  Total_amount  \n",
       "0      13085.0  United Kingdom 2009-12-01          83.4  \n",
       "1      13085.0  United Kingdom 2009-12-01          81.0  \n",
       "2      13085.0  United Kingdom 2009-12-01          81.0  \n",
       "3      13085.0  United Kingdom 2009-12-01         100.8  \n",
       "4      13085.0  United Kingdom 2009-12-01          30.0  "
      ]
     },
     "execution_count": 24,
     "metadata": {},
     "output_type": "execute_result"
    }
   ],
   "source": [
    "data1['Total_amount'] = data1['Quantity']*data1['Price']\n",
    "data1.head()"
   ]
  },
  {
   "cell_type": "markdown",
   "id": "ed8b489f",
   "metadata": {},
   "source": [
    " each unique customer will total amount they have spent. \n",
    " \n",
    "Note:We are take .sum() to add up all the amounts and get a total for each CustomerID."
   ]
  },
  {
   "cell_type": "code",
   "execution_count": 25,
   "id": "09e87e3d",
   "metadata": {},
   "outputs": [
    {
     "data": {
      "text/html": [
       "<div>\n",
       "<style scoped>\n",
       "    .dataframe tbody tr th:only-of-type {\n",
       "        vertical-align: middle;\n",
       "    }\n",
       "\n",
       "    .dataframe tbody tr th {\n",
       "        vertical-align: top;\n",
       "    }\n",
       "\n",
       "    .dataframe thead th {\n",
       "        text-align: right;\n",
       "    }\n",
       "</style>\n",
       "<table border=\"1\" class=\"dataframe\">\n",
       "  <thead>\n",
       "    <tr style=\"text-align: right;\">\n",
       "      <th></th>\n",
       "      <th>Customer ID</th>\n",
       "      <th>Total_amount</th>\n",
       "    </tr>\n",
       "  </thead>\n",
       "  <tbody>\n",
       "    <tr>\n",
       "      <th>0</th>\n",
       "      <td>12346.0</td>\n",
       "      <td>-51.74</td>\n",
       "    </tr>\n",
       "    <tr>\n",
       "      <th>1</th>\n",
       "      <td>12347.0</td>\n",
       "      <td>1323.32</td>\n",
       "    </tr>\n",
       "    <tr>\n",
       "      <th>2</th>\n",
       "      <td>12348.0</td>\n",
       "      <td>222.16</td>\n",
       "    </tr>\n",
       "    <tr>\n",
       "      <th>3</th>\n",
       "      <td>12349.0</td>\n",
       "      <td>2646.99</td>\n",
       "    </tr>\n",
       "    <tr>\n",
       "      <th>4</th>\n",
       "      <td>12351.0</td>\n",
       "      <td>300.93</td>\n",
       "    </tr>\n",
       "  </tbody>\n",
       "</table>\n",
       "</div>"
      ],
      "text/plain": [
       "   Customer ID  Total_amount\n",
       "0      12346.0        -51.74\n",
       "1      12347.0       1323.32\n",
       "2      12348.0        222.16\n",
       "3      12349.0       2646.99\n",
       "4      12351.0        300.93"
      ]
     },
     "execution_count": 25,
     "metadata": {},
     "output_type": "execute_result"
    }
   ],
   "source": [
    "customer = data1.groupby('Customer ID')['Total_amount'].sum()\n",
    "customer = customer.reset_index()\n",
    "customer.head()"
   ]
  },
  {
   "cell_type": "code",
   "execution_count": 26,
   "id": "489982cd",
   "metadata": {},
   "outputs": [
    {
     "data": {
      "text/html": [
       "<div>\n",
       "<style scoped>\n",
       "    .dataframe tbody tr th:only-of-type {\n",
       "        vertical-align: middle;\n",
       "    }\n",
       "\n",
       "    .dataframe tbody tr th {\n",
       "        vertical-align: top;\n",
       "    }\n",
       "\n",
       "    .dataframe thead th {\n",
       "        text-align: right;\n",
       "    }\n",
       "</style>\n",
       "<table border=\"1\" class=\"dataframe\">\n",
       "  <thead>\n",
       "    <tr style=\"text-align: right;\">\n",
       "      <th></th>\n",
       "      <th>Customer ID</th>\n",
       "      <th>Total_amount</th>\n",
       "      <th>Invoice</th>\n",
       "    </tr>\n",
       "  </thead>\n",
       "  <tbody>\n",
       "    <tr>\n",
       "      <th>0</th>\n",
       "      <td>12346.0</td>\n",
       "      <td>-51.74</td>\n",
       "      <td>45</td>\n",
       "    </tr>\n",
       "    <tr>\n",
       "      <th>1</th>\n",
       "      <td>12347.0</td>\n",
       "      <td>1323.32</td>\n",
       "      <td>71</td>\n",
       "    </tr>\n",
       "    <tr>\n",
       "      <th>2</th>\n",
       "      <td>12348.0</td>\n",
       "      <td>222.16</td>\n",
       "      <td>20</td>\n",
       "    </tr>\n",
       "    <tr>\n",
       "      <th>3</th>\n",
       "      <td>12349.0</td>\n",
       "      <td>2646.99</td>\n",
       "      <td>107</td>\n",
       "    </tr>\n",
       "    <tr>\n",
       "      <th>4</th>\n",
       "      <td>12351.0</td>\n",
       "      <td>300.93</td>\n",
       "      <td>21</td>\n",
       "    </tr>\n",
       "  </tbody>\n",
       "</table>\n",
       "</div>"
      ],
      "text/plain": [
       "   Customer ID  Total_amount  Invoice\n",
       "0      12346.0        -51.74       45\n",
       "1      12347.0       1323.32       71\n",
       "2      12348.0        222.16       20\n",
       "3      12349.0       2646.99      107\n",
       "4      12351.0        300.93       21"
      ]
     },
     "execution_count": 26,
     "metadata": {},
     "output_type": "execute_result"
    }
   ],
   "source": [
    "new_customer_dataset = pd.merge(customer,customer_freq,on ='Customer ID')\n",
    "new_customer_dataset.head()"
   ]
  },
  {
   "cell_type": "code",
   "execution_count": 27,
   "id": "89acee03",
   "metadata": {},
   "outputs": [
    {
     "data": {
      "text/html": [
       "<div>\n",
       "<style scoped>\n",
       "    .dataframe tbody tr th:only-of-type {\n",
       "        vertical-align: middle;\n",
       "    }\n",
       "\n",
       "    .dataframe tbody tr th {\n",
       "        vertical-align: top;\n",
       "    }\n",
       "\n",
       "    .dataframe thead th {\n",
       "        text-align: right;\n",
       "    }\n",
       "</style>\n",
       "<table border=\"1\" class=\"dataframe\">\n",
       "  <thead>\n",
       "    <tr style=\"text-align: right;\">\n",
       "      <th></th>\n",
       "      <th>Invoice</th>\n",
       "      <th>StockCode</th>\n",
       "      <th>Description</th>\n",
       "      <th>Quantity</th>\n",
       "      <th>Price</th>\n",
       "      <th>Customer ID</th>\n",
       "      <th>Country</th>\n",
       "      <th>Date</th>\n",
       "      <th>Total_amount</th>\n",
       "    </tr>\n",
       "  </thead>\n",
       "  <tbody>\n",
       "    <tr>\n",
       "      <th>0</th>\n",
       "      <td>489434</td>\n",
       "      <td>85048</td>\n",
       "      <td>15CM CHRISTMAS GLASS BALL 20 LIGHTS</td>\n",
       "      <td>12</td>\n",
       "      <td>6.95</td>\n",
       "      <td>13085.0</td>\n",
       "      <td>United Kingdom</td>\n",
       "      <td>2009-12-01</td>\n",
       "      <td>83.4</td>\n",
       "    </tr>\n",
       "    <tr>\n",
       "      <th>1</th>\n",
       "      <td>489434</td>\n",
       "      <td>79323P</td>\n",
       "      <td>PINK CHERRY LIGHTS</td>\n",
       "      <td>12</td>\n",
       "      <td>6.75</td>\n",
       "      <td>13085.0</td>\n",
       "      <td>United Kingdom</td>\n",
       "      <td>2009-12-01</td>\n",
       "      <td>81.0</td>\n",
       "    </tr>\n",
       "  </tbody>\n",
       "</table>\n",
       "</div>"
      ],
      "text/plain": [
       "  Invoice StockCode                          Description  Quantity  Price  \\\n",
       "0  489434     85048  15CM CHRISTMAS GLASS BALL 20 LIGHTS        12   6.95   \n",
       "1  489434    79323P                   PINK CHERRY LIGHTS        12   6.75   \n",
       "\n",
       "   Customer ID         Country       Date  Total_amount  \n",
       "0      13085.0  United Kingdom 2009-12-01          83.4  \n",
       "1      13085.0  United Kingdom 2009-12-01          81.0  "
      ]
     },
     "execution_count": 27,
     "metadata": {},
     "output_type": "execute_result"
    }
   ],
   "source": [
    "data1.head(2)"
   ]
  },
  {
   "cell_type": "code",
   "execution_count": 28,
   "id": "bd7631f0",
   "metadata": {},
   "outputs": [
    {
     "data": {
      "text/plain": [
       "Timestamp('2010-12-09 00:00:00')"
      ]
     },
     "execution_count": 28,
     "metadata": {},
     "output_type": "execute_result"
    }
   ],
   "source": [
    "# getting max date \n",
    "invoice_date = max(data1['Date'])\n",
    "invoice_date"
   ]
  },
  {
   "cell_type": "code",
   "execution_count": 29,
   "id": "1c331270",
   "metadata": {},
   "outputs": [
    {
     "data": {
      "text/html": [
       "<div>\n",
       "<style scoped>\n",
       "    .dataframe tbody tr th:only-of-type {\n",
       "        vertical-align: middle;\n",
       "    }\n",
       "\n",
       "    .dataframe tbody tr th {\n",
       "        vertical-align: top;\n",
       "    }\n",
       "\n",
       "    .dataframe thead th {\n",
       "        text-align: right;\n",
       "    }\n",
       "</style>\n",
       "<table border=\"1\" class=\"dataframe\">\n",
       "  <thead>\n",
       "    <tr style=\"text-align: right;\">\n",
       "      <th></th>\n",
       "      <th>Invoice</th>\n",
       "      <th>StockCode</th>\n",
       "      <th>Description</th>\n",
       "      <th>Quantity</th>\n",
       "      <th>Price</th>\n",
       "      <th>Customer ID</th>\n",
       "      <th>Country</th>\n",
       "      <th>Date</th>\n",
       "      <th>Total_amount</th>\n",
       "      <th>Invoice_Date</th>\n",
       "    </tr>\n",
       "  </thead>\n",
       "  <tbody>\n",
       "    <tr>\n",
       "      <th>0</th>\n",
       "      <td>489434</td>\n",
       "      <td>85048</td>\n",
       "      <td>15CM CHRISTMAS GLASS BALL 20 LIGHTS</td>\n",
       "      <td>12</td>\n",
       "      <td>6.95</td>\n",
       "      <td>13085.0</td>\n",
       "      <td>United Kingdom</td>\n",
       "      <td>2009-12-01</td>\n",
       "      <td>83.4</td>\n",
       "      <td>373 days</td>\n",
       "    </tr>\n",
       "    <tr>\n",
       "      <th>1</th>\n",
       "      <td>489434</td>\n",
       "      <td>79323P</td>\n",
       "      <td>PINK CHERRY LIGHTS</td>\n",
       "      <td>12</td>\n",
       "      <td>6.75</td>\n",
       "      <td>13085.0</td>\n",
       "      <td>United Kingdom</td>\n",
       "      <td>2009-12-01</td>\n",
       "      <td>81.0</td>\n",
       "      <td>373 days</td>\n",
       "    </tr>\n",
       "  </tbody>\n",
       "</table>\n",
       "</div>"
      ],
      "text/plain": [
       "  Invoice StockCode                          Description  Quantity  Price  \\\n",
       "0  489434     85048  15CM CHRISTMAS GLASS BALL 20 LIGHTS        12   6.95   \n",
       "1  489434    79323P                   PINK CHERRY LIGHTS        12   6.75   \n",
       "\n",
       "   Customer ID         Country       Date  Total_amount Invoice_Date  \n",
       "0      13085.0  United Kingdom 2009-12-01          83.4     373 days  \n",
       "1      13085.0  United Kingdom 2009-12-01          81.0     373 days  "
      ]
     },
     "execution_count": 29,
     "metadata": {},
     "output_type": "execute_result"
    }
   ],
   "source": [
    "data1['Invoice_Date'] = invoice_date - data1['Date']\n",
    "data1.head(2)"
   ]
  },
  {
   "cell_type": "markdown",
   "id": "9d2455d8",
   "metadata": {},
   "source": [
    "groupby each customer and take out the .min() from the Invoice_Date column to get the days when the customer was last seen."
   ]
  },
  {
   "cell_type": "code",
   "execution_count": 30,
   "id": "19d25b11",
   "metadata": {
    "scrolled": true
   },
   "outputs": [
    {
     "data": {
      "text/html": [
       "<div>\n",
       "<style scoped>\n",
       "    .dataframe tbody tr th:only-of-type {\n",
       "        vertical-align: middle;\n",
       "    }\n",
       "\n",
       "    .dataframe tbody tr th {\n",
       "        vertical-align: top;\n",
       "    }\n",
       "\n",
       "    .dataframe thead th {\n",
       "        text-align: right;\n",
       "    }\n",
       "</style>\n",
       "<table border=\"1\" class=\"dataframe\">\n",
       "  <thead>\n",
       "    <tr style=\"text-align: right;\">\n",
       "      <th></th>\n",
       "      <th>Customer ID</th>\n",
       "      <th>Invoice_Date</th>\n",
       "    </tr>\n",
       "  </thead>\n",
       "  <tbody>\n",
       "    <tr>\n",
       "      <th>0</th>\n",
       "      <td>12346.0</td>\n",
       "      <td>66</td>\n",
       "    </tr>\n",
       "    <tr>\n",
       "      <th>1</th>\n",
       "      <td>12347.0</td>\n",
       "      <td>2</td>\n",
       "    </tr>\n",
       "    <tr>\n",
       "      <th>2</th>\n",
       "      <td>12348.0</td>\n",
       "      <td>73</td>\n",
       "    </tr>\n",
       "    <tr>\n",
       "      <th>3</th>\n",
       "      <td>12349.0</td>\n",
       "      <td>42</td>\n",
       "    </tr>\n",
       "    <tr>\n",
       "      <th>4</th>\n",
       "      <td>12351.0</td>\n",
       "      <td>10</td>\n",
       "    </tr>\n",
       "  </tbody>\n",
       "</table>\n",
       "</div>"
      ],
      "text/plain": [
       "   Customer ID  Invoice_Date\n",
       "0      12346.0            66\n",
       "1      12347.0             2\n",
       "2      12348.0            73\n",
       "3      12349.0            42\n",
       "4      12351.0            10"
      ]
     },
     "execution_count": 30,
     "metadata": {},
     "output_type": "execute_result"
    }
   ],
   "source": [
    "data1['Invoice_Date'] = data1['Invoice_Date'].dt.days\n",
    "date = data1.groupby('Customer ID')['Invoice_Date'].min()\n",
    "date= date.reset_index()\n",
    "date.head()\n"
   ]
  },
  {
   "cell_type": "code",
   "execution_count": 31,
   "id": "0b48dd91",
   "metadata": {},
   "outputs": [
    {
     "data": {
      "text/plain": [
       "pandas.core.frame.DataFrame"
      ]
     },
     "execution_count": 31,
     "metadata": {},
     "output_type": "execute_result"
    }
   ],
   "source": [
    "type(date)"
   ]
  },
  {
   "cell_type": "code",
   "execution_count": 32,
   "id": "d8e0ff56",
   "metadata": {},
   "outputs": [
    {
     "data": {
      "text/html": [
       "<div>\n",
       "<style scoped>\n",
       "    .dataframe tbody tr th:only-of-type {\n",
       "        vertical-align: middle;\n",
       "    }\n",
       "\n",
       "    .dataframe tbody tr th {\n",
       "        vertical-align: top;\n",
       "    }\n",
       "\n",
       "    .dataframe thead th {\n",
       "        text-align: right;\n",
       "    }\n",
       "</style>\n",
       "<table border=\"1\" class=\"dataframe\">\n",
       "  <thead>\n",
       "    <tr style=\"text-align: right;\">\n",
       "      <th></th>\n",
       "      <th>Customer ID</th>\n",
       "      <th>Total_amount</th>\n",
       "      <th>Invoice</th>\n",
       "      <th>Invoice_Date</th>\n",
       "    </tr>\n",
       "  </thead>\n",
       "  <tbody>\n",
       "    <tr>\n",
       "      <th>0</th>\n",
       "      <td>12346.0</td>\n",
       "      <td>-51.74</td>\n",
       "      <td>45</td>\n",
       "      <td>66</td>\n",
       "    </tr>\n",
       "    <tr>\n",
       "      <th>1</th>\n",
       "      <td>12347.0</td>\n",
       "      <td>1323.32</td>\n",
       "      <td>71</td>\n",
       "      <td>2</td>\n",
       "    </tr>\n",
       "    <tr>\n",
       "      <th>2</th>\n",
       "      <td>12348.0</td>\n",
       "      <td>222.16</td>\n",
       "      <td>20</td>\n",
       "      <td>73</td>\n",
       "    </tr>\n",
       "    <tr>\n",
       "      <th>3</th>\n",
       "      <td>12349.0</td>\n",
       "      <td>2646.99</td>\n",
       "      <td>107</td>\n",
       "      <td>42</td>\n",
       "    </tr>\n",
       "  </tbody>\n",
       "</table>\n",
       "</div>"
      ],
      "text/plain": [
       "   Customer ID  Total_amount  Invoice  Invoice_Date\n",
       "0      12346.0        -51.74       45            66\n",
       "1      12347.0       1323.32       71             2\n",
       "2      12348.0        222.16       20            73\n",
       "3      12349.0       2646.99      107            42"
      ]
     },
     "execution_count": 32,
     "metadata": {},
     "output_type": "execute_result"
    }
   ],
   "source": [
    "detailed_customer_dataset = pd.merge(new_customer_dataset,date)\n",
    "detailed_customer_dataset.head(4)\n"
   ]
  },
  {
   "cell_type": "code",
   "execution_count": 33,
   "id": "47c576af",
   "metadata": {},
   "outputs": [
    {
     "data": {
      "image/png": "[encoded data removed]",
      "text/plain": [
       "<Figure size 1440x1296 with 4 Axes>"
      ]
     },
     "metadata": {
      "needs_background": "light"
     },
     "output_type": "display_data"
    }
   ],
   "source": [
    "detailed_customer_dataset.hist(bins = 100, figsize = (20, 18), color = 'blue')\n",
    "plt.show()"
   ]
  },
  {
   "cell_type": "code",
   "execution_count": 34,
   "id": "0e679ca1",
   "metadata": {},
   "outputs": [
    {
     "data": {
      "image/png": "[encoded data removed]",
      "text/plain": [
       "<Figure size 1440x1296 with 4 Axes>"
      ]
     },
     "metadata": {
      "needs_background": "light"
     },
     "output_type": "display_data"
    }
   ],
   "source": [
    "#Density plots\n",
    "plt.figure(figsize=(20, 18))\n",
    "col = 1\n",
    "for i in detailed_customer_dataset.columns:\n",
    "    plt.subplot(4, 5, col)\n",
    "    sns.distplot(detailed_customer_dataset[i], color = 'b')\n",
    "    col += 1 "
   ]
  },
  {
   "cell_type": "code",
   "execution_count": 35,
   "id": "2fb342d8",
   "metadata": {},
   "outputs": [
    {
     "data": {
      "image/png": "[encoded data removed]",
      "text/plain": [
       "<Figure size 1080x576 with 1 Axes>"
      ]
     },
     "metadata": {
      "needs_background": "light"
     },
     "output_type": "display_data"
    }
   ],
   "source": [
    "plt.figure(figsize=(15,8))\n",
    "b1=detailed_customer_dataset.groupby('Customer ID')['Total_amount'].sum().sort_values(ascending = False ).head(12)\n",
    "b1= b1.reset_index() \n",
    "b1.columns = ['Customer ID' ,'Total_amount']\n",
    "sns.barplot(data= b1 , x= 'Customer ID' , y ='Total_amount');\n",
    "plt.title(\"Data\");"
   ]
  },
  {
   "cell_type": "code",
   "execution_count": 36,
   "id": "8a535918",
   "metadata": {},
   "outputs": [
    {
     "data": {
      "image/png": "[encoded data removed]",
      "text/plain": [
       "<Figure size 1800x1656 with 4 Axes>"
      ]
     },
     "metadata": {
      "needs_background": "light"
     },
     "output_type": "display_data"
    }
   ],
   "source": [
    "#boxplots for outliers\n",
    "data = detailed_customer_dataset.copy()\n",
    "plt.figure(figsize=(25,23))\n",
    "col = 1\n",
    "for feature in data:\n",
    "    plt.subplot(6,4, col)\n",
    "    sns.boxplot(data[feature],color = 'red')\n",
    "    col +=1\n"
   ]
  },
  {
   "cell_type": "code",
   "execution_count": 37,
   "id": "075afba2",
   "metadata": {
    "scrolled": true
   },
   "outputs": [],
   "source": [
    "outlier_data = data[['Total_amount','Invoice','Invoice_Date']].copy()\n"
   ]
  },
  {
   "cell_type": "code",
   "execution_count": 38,
   "id": "976b33a6",
   "metadata": {
    "scrolled": true
   },
   "outputs": [
    {
     "data": {
      "text/html": [
       "<div>\n",
       "<style scoped>\n",
       "    .dataframe tbody tr th:only-of-type {\n",
       "        vertical-align: middle;\n",
       "    }\n",
       "\n",
       "    .dataframe tbody tr th {\n",
       "        vertical-align: top;\n",
       "    }\n",
       "\n",
       "    .dataframe thead th {\n",
       "        text-align: right;\n",
       "    }\n",
       "</style>\n",
       "<table border=\"1\" class=\"dataframe\">\n",
       "  <thead>\n",
       "    <tr style=\"text-align: right;\">\n",
       "      <th></th>\n",
       "      <th>Total_amount</th>\n",
       "      <th>Invoice</th>\n",
       "      <th>Invoice_Date</th>\n",
       "    </tr>\n",
       "  </thead>\n",
       "  <tbody>\n",
       "    <tr>\n",
       "      <th>0</th>\n",
       "      <td>-51.74</td>\n",
       "      <td>45</td>\n",
       "      <td>66</td>\n",
       "    </tr>\n",
       "    <tr>\n",
       "      <th>1</th>\n",
       "      <td>1323.32</td>\n",
       "      <td>71</td>\n",
       "      <td>2</td>\n",
       "    </tr>\n",
       "    <tr>\n",
       "      <th>2</th>\n",
       "      <td>222.16</td>\n",
       "      <td>20</td>\n",
       "      <td>73</td>\n",
       "    </tr>\n",
       "    <tr>\n",
       "      <th>3</th>\n",
       "      <td>2646.99</td>\n",
       "      <td>107</td>\n",
       "      <td>42</td>\n",
       "    </tr>\n",
       "    <tr>\n",
       "      <th>4</th>\n",
       "      <td>300.93</td>\n",
       "      <td>21</td>\n",
       "      <td>10</td>\n",
       "    </tr>\n",
       "    <tr>\n",
       "      <th>5</th>\n",
       "      <td>343.80</td>\n",
       "      <td>18</td>\n",
       "      <td>10</td>\n",
       "    </tr>\n",
       "    <tr>\n",
       "      <th>6</th>\n",
       "      <td>317.76</td>\n",
       "      <td>20</td>\n",
       "      <td>43</td>\n",
       "    </tr>\n",
       "    <tr>\n",
       "      <th>7</th>\n",
       "      <td>488.21</td>\n",
       "      <td>22</td>\n",
       "      <td>202</td>\n",
       "    </tr>\n",
       "    <tr>\n",
       "      <th>8</th>\n",
       "      <td>3560.30</td>\n",
       "      <td>83</td>\n",
       "      <td>15</td>\n",
       "    </tr>\n",
       "    <tr>\n",
       "      <th>9</th>\n",
       "      <td>12079.99</td>\n",
       "      <td>165</td>\n",
       "      <td>23</td>\n",
       "    </tr>\n",
       "    <tr>\n",
       "      <th>10</th>\n",
       "      <td>2719.01</td>\n",
       "      <td>58</td>\n",
       "      <td>10</td>\n",
       "    </tr>\n",
       "    <tr>\n",
       "      <th>11</th>\n",
       "      <td>2469.36</td>\n",
       "      <td>121</td>\n",
       "      <td>60</td>\n",
       "    </tr>\n",
       "    <tr>\n",
       "      <th>12</th>\n",
       "      <td>1550.83</td>\n",
       "      <td>89</td>\n",
       "      <td>14</td>\n",
       "    </tr>\n",
       "    <tr>\n",
       "      <th>13</th>\n",
       "      <td>321.35</td>\n",
       "      <td>19</td>\n",
       "      <td>97</td>\n",
       "    </tr>\n",
       "    <tr>\n",
       "      <th>14</th>\n",
       "      <td>130.00</td>\n",
       "      <td>1</td>\n",
       "      <td>373</td>\n",
       "    </tr>\n",
       "    <tr>\n",
       "      <th>15</th>\n",
       "      <td>500.24</td>\n",
       "      <td>3</td>\n",
       "      <td>268</td>\n",
       "    </tr>\n",
       "    <tr>\n",
       "      <th>16</th>\n",
       "      <td>917.70</td>\n",
       "      <td>18</td>\n",
       "      <td>263</td>\n",
       "    </tr>\n",
       "    <tr>\n",
       "      <th>17</th>\n",
       "      <td>1791.15</td>\n",
       "      <td>93</td>\n",
       "      <td>48</td>\n",
       "    </tr>\n",
       "    <tr>\n",
       "      <th>18</th>\n",
       "      <td>774.62</td>\n",
       "      <td>35</td>\n",
       "      <td>259</td>\n",
       "    </tr>\n",
       "    <tr>\n",
       "      <th>19</th>\n",
       "      <td>2179.42</td>\n",
       "      <td>104</td>\n",
       "      <td>44</td>\n",
       "    </tr>\n",
       "    <tr>\n",
       "      <th>20</th>\n",
       "      <td>763.05</td>\n",
       "      <td>37</td>\n",
       "      <td>259</td>\n",
       "    </tr>\n",
       "    <tr>\n",
       "      <th>21</th>\n",
       "      <td>2246.29</td>\n",
       "      <td>50</td>\n",
       "      <td>56</td>\n",
       "    </tr>\n",
       "    <tr>\n",
       "      <th>22</th>\n",
       "      <td>503.15</td>\n",
       "      <td>13</td>\n",
       "      <td>24</td>\n",
       "    </tr>\n",
       "    <tr>\n",
       "      <th>23</th>\n",
       "      <td>1798.20</td>\n",
       "      <td>75</td>\n",
       "      <td>16</td>\n",
       "    </tr>\n",
       "    <tr>\n",
       "      <th>24</th>\n",
       "      <td>1407.70</td>\n",
       "      <td>82</td>\n",
       "      <td>197</td>\n",
       "    </tr>\n",
       "    <tr>\n",
       "      <th>25</th>\n",
       "      <td>767.98</td>\n",
       "      <td>41</td>\n",
       "      <td>57</td>\n",
       "    </tr>\n",
       "    <tr>\n",
       "      <th>26</th>\n",
       "      <td>5167.44</td>\n",
       "      <td>178</td>\n",
       "      <td>16</td>\n",
       "    </tr>\n",
       "    <tr>\n",
       "      <th>27</th>\n",
       "      <td>-18.38</td>\n",
       "      <td>1</td>\n",
       "      <td>317</td>\n",
       "    </tr>\n",
       "    <tr>\n",
       "      <th>28</th>\n",
       "      <td>1923.40</td>\n",
       "      <td>66</td>\n",
       "      <td>14</td>\n",
       "    </tr>\n",
       "    <tr>\n",
       "      <th>29</th>\n",
       "      <td>258.90</td>\n",
       "      <td>8</td>\n",
       "      <td>1</td>\n",
       "    </tr>\n",
       "    <tr>\n",
       "      <th>...</th>\n",
       "      <td>...</td>\n",
       "      <td>...</td>\n",
       "      <td>...</td>\n",
       "    </tr>\n",
       "    <tr>\n",
       "      <th>4353</th>\n",
       "      <td>317.88</td>\n",
       "      <td>7</td>\n",
       "      <td>277</td>\n",
       "    </tr>\n",
       "    <tr>\n",
       "      <th>4354</th>\n",
       "      <td>267.90</td>\n",
       "      <td>16</td>\n",
       "      <td>216</td>\n",
       "    </tr>\n",
       "    <tr>\n",
       "      <th>4355</th>\n",
       "      <td>199.85</td>\n",
       "      <td>13</td>\n",
       "      <td>91</td>\n",
       "    </tr>\n",
       "    <tr>\n",
       "      <th>4356</th>\n",
       "      <td>110.70</td>\n",
       "      <td>10</td>\n",
       "      <td>22</td>\n",
       "    </tr>\n",
       "    <tr>\n",
       "      <th>4357</th>\n",
       "      <td>2231.42</td>\n",
       "      <td>165</td>\n",
       "      <td>81</td>\n",
       "    </tr>\n",
       "    <tr>\n",
       "      <th>4358</th>\n",
       "      <td>2040.97</td>\n",
       "      <td>53</td>\n",
       "      <td>99</td>\n",
       "    </tr>\n",
       "    <tr>\n",
       "      <th>4359</th>\n",
       "      <td>1979.60</td>\n",
       "      <td>50</td>\n",
       "      <td>1</td>\n",
       "    </tr>\n",
       "    <tr>\n",
       "      <th>4360</th>\n",
       "      <td>7156.95</td>\n",
       "      <td>290</td>\n",
       "      <td>9</td>\n",
       "    </tr>\n",
       "    <tr>\n",
       "      <th>4361</th>\n",
       "      <td>428.06</td>\n",
       "      <td>29</td>\n",
       "      <td>28</td>\n",
       "    </tr>\n",
       "    <tr>\n",
       "      <th>4362</th>\n",
       "      <td>603.25</td>\n",
       "      <td>36</td>\n",
       "      <td>133</td>\n",
       "    </tr>\n",
       "    <tr>\n",
       "      <th>4363</th>\n",
       "      <td>251.10</td>\n",
       "      <td>14</td>\n",
       "      <td>69</td>\n",
       "    </tr>\n",
       "    <tr>\n",
       "      <th>4364</th>\n",
       "      <td>252.87</td>\n",
       "      <td>20</td>\n",
       "      <td>294</td>\n",
       "    </tr>\n",
       "    <tr>\n",
       "      <th>4365</th>\n",
       "      <td>1451.22</td>\n",
       "      <td>69</td>\n",
       "      <td>226</td>\n",
       "    </tr>\n",
       "    <tr>\n",
       "      <th>4366</th>\n",
       "      <td>168.60</td>\n",
       "      <td>7</td>\n",
       "      <td>1</td>\n",
       "    </tr>\n",
       "    <tr>\n",
       "      <th>4367</th>\n",
       "      <td>161.40</td>\n",
       "      <td>6</td>\n",
       "      <td>67</td>\n",
       "    </tr>\n",
       "    <tr>\n",
       "      <th>4368</th>\n",
       "      <td>680.85</td>\n",
       "      <td>21</td>\n",
       "      <td>244</td>\n",
       "    </tr>\n",
       "    <tr>\n",
       "      <th>4369</th>\n",
       "      <td>1282.55</td>\n",
       "      <td>62</td>\n",
       "      <td>64</td>\n",
       "    </tr>\n",
       "    <tr>\n",
       "      <th>4370</th>\n",
       "      <td>153.00</td>\n",
       "      <td>1</td>\n",
       "      <td>225</td>\n",
       "    </tr>\n",
       "    <tr>\n",
       "      <th>4371</th>\n",
       "      <td>741.85</td>\n",
       "      <td>19</td>\n",
       "      <td>213</td>\n",
       "    </tr>\n",
       "    <tr>\n",
       "      <th>4372</th>\n",
       "      <td>1297.31</td>\n",
       "      <td>83</td>\n",
       "      <td>20</td>\n",
       "    </tr>\n",
       "    <tr>\n",
       "      <th>4373</th>\n",
       "      <td>1013.75</td>\n",
       "      <td>59</td>\n",
       "      <td>23</td>\n",
       "    </tr>\n",
       "    <tr>\n",
       "      <th>4374</th>\n",
       "      <td>240.30</td>\n",
       "      <td>15</td>\n",
       "      <td>39</td>\n",
       "    </tr>\n",
       "    <tr>\n",
       "      <th>4375</th>\n",
       "      <td>231.34</td>\n",
       "      <td>13</td>\n",
       "      <td>154</td>\n",
       "    </tr>\n",
       "    <tr>\n",
       "      <th>4376</th>\n",
       "      <td>291.85</td>\n",
       "      <td>22</td>\n",
       "      <td>15</td>\n",
       "    </tr>\n",
       "    <tr>\n",
       "      <th>4377</th>\n",
       "      <td>120.32</td>\n",
       "      <td>10</td>\n",
       "      <td>212</td>\n",
       "    </tr>\n",
       "    <tr>\n",
       "      <th>4378</th>\n",
       "      <td>619.37</td>\n",
       "      <td>217</td>\n",
       "      <td>17</td>\n",
       "    </tr>\n",
       "    <tr>\n",
       "      <th>4379</th>\n",
       "      <td>436.68</td>\n",
       "      <td>29</td>\n",
       "      <td>64</td>\n",
       "    </tr>\n",
       "    <tr>\n",
       "      <th>4380</th>\n",
       "      <td>427.00</td>\n",
       "      <td>12</td>\n",
       "      <td>295</td>\n",
       "    </tr>\n",
       "    <tr>\n",
       "      <th>4381</th>\n",
       "      <td>1188.43</td>\n",
       "      <td>70</td>\n",
       "      <td>111</td>\n",
       "    </tr>\n",
       "    <tr>\n",
       "      <th>4382</th>\n",
       "      <td>2340.61</td>\n",
       "      <td>86</td>\n",
       "      <td>17</td>\n",
       "    </tr>\n",
       "  </tbody>\n",
       "</table>\n",
       "<p>4383 rows × 3 columns</p>\n",
       "</div>"
      ],
      "text/plain": [
       "      Total_amount  Invoice  Invoice_Date\n",
       "0           -51.74       45            66\n",
       "1          1323.32       71             2\n",
       "2           222.16       20            73\n",
       "3          2646.99      107            42\n",
       "4           300.93       21            10\n",
       "5           343.80       18            10\n",
       "6           317.76       20            43\n",
       "7           488.21       22           202\n",
       "8          3560.30       83            15\n",
       "9         12079.99      165            23\n",
       "10         2719.01       58            10\n",
       "11         2469.36      121            60\n",
       "12         1550.83       89            14\n",
       "13          321.35       19            97\n",
       "14          130.00        1           373\n",
       "15          500.24        3           268\n",
       "16          917.70       18           263\n",
       "17         1791.15       93            48\n",
       "18          774.62       35           259\n",
       "19         2179.42      104            44\n",
       "20          763.05       37           259\n",
       "21         2246.29       50            56\n",
       "22          503.15       13            24\n",
       "23         1798.20       75            16\n",
       "24         1407.70       82           197\n",
       "25          767.98       41            57\n",
       "26         5167.44      178            16\n",
       "27          -18.38        1           317\n",
       "28         1923.40       66            14\n",
       "29          258.90        8             1\n",
       "...            ...      ...           ...\n",
       "4353        317.88        7           277\n",
       "4354        267.90       16           216\n",
       "4355        199.85       13            91\n",
       "4356        110.70       10            22\n",
       "4357       2231.42      165            81\n",
       "4358       2040.97       53            99\n",
       "4359       1979.60       50             1\n",
       "4360       7156.95      290             9\n",
       "4361        428.06       29            28\n",
       "4362        603.25       36           133\n",
       "4363        251.10       14            69\n",
       "4364        252.87       20           294\n",
       "4365       1451.22       69           226\n",
       "4366        168.60        7             1\n",
       "4367        161.40        6            67\n",
       "4368        680.85       21           244\n",
       "4369       1282.55       62            64\n",
       "4370        153.00        1           225\n",
       "4371        741.85       19           213\n",
       "4372       1297.31       83            20\n",
       "4373       1013.75       59            23\n",
       "4374        240.30       15            39\n",
       "4375        231.34       13           154\n",
       "4376        291.85       22            15\n",
       "4377        120.32       10           212\n",
       "4378        619.37      217            17\n",
       "4379        436.68       29            64\n",
       "4380        427.00       12           295\n",
       "4381       1188.43       70           111\n",
       "4382       2340.61       86            17\n",
       "\n",
       "[4383 rows x 3 columns]"
      ]
     },
     "execution_count": 38,
     "metadata": {},
     "output_type": "execute_result"
    }
   ],
   "source": [
    "outlier_data"
   ]
  },
  {
   "cell_type": "code",
   "execution_count": 39,
   "id": "68f931af",
   "metadata": {},
   "outputs": [],
   "source": [
    "#find the outliers and replace them by median\n",
    "def find_outliers_IQR(data):\n",
    "    q1 = data.quantile(0.25)\n",
    "    q3 = data.quantile(0.75)\n",
    "    IQR = q3-q1\n",
    "    outliers = data[((data<(q1-1.5*IQR)) |  (data>(q3+1.5*IQR)))]\n",
    "    return outliers\n",
    "    "
   ]
  },
  {
   "cell_type": "code",
   "execution_count": 40,
   "id": "84f019e0",
   "metadata": {},
   "outputs": [],
   "source": [
    "def impute_outliers_IQR(data):\n",
    "    q1 = data.quantile(0.25)\n",
    "    q3 = data.quantile(0.75)\n",
    "    IQR =q3-q1\n",
    "    upper = data[~(data>(q3+1.5*IQR))].max()\n",
    "    lower = data[~(data>(q3-1.5*IQR))].min()\n",
    "    data = np.where(data>upper,data.mean(),np.where(data<lower,data.mean,data))\n",
    "    return data"
   ]
  },
  {
   "cell_type": "code",
   "execution_count": 41,
   "id": "aee725ab",
   "metadata": {},
   "outputs": [],
   "source": [
    "for i in outlier_data:\n",
    "    outlier_data[i] = impute_outliers_IQR(outlier_data[i])\n",
    "#     print(outlier_data[i])"
   ]
  },
  {
   "cell_type": "code",
   "execution_count": 42,
   "id": "7b91815f",
   "metadata": {},
   "outputs": [
    {
     "data": {
      "image/png": "[encoded data removed]",
      "text/plain": [
       "<Figure size 1800x1656 with 3 Axes>"
      ]
     },
     "metadata": {
      "needs_background": "light"
     },
     "output_type": "display_data"
    }
   ],
   "source": [
    "#boxplots after handle outliers\n",
    "\n",
    "plt.figure(figsize=(25,23))\n",
    "col = 1\n",
    "for feature in outlier_data:\n",
    "    plt.subplot(6,4, col)\n",
    "    sns.boxplot(outlier_data[feature],color = 'red')\n",
    "    col +=1"
   ]
  },
  {
   "cell_type": "code",
   "execution_count": 43,
   "id": "19d17f6c",
   "metadata": {},
   "outputs": [],
   "source": [
    "final_data = pd.merge(outlier_data,data)"
   ]
  },
  {
   "cell_type": "code",
   "execution_count": 44,
   "id": "26cbf0e8",
   "metadata": {
    "scrolled": true
   },
   "outputs": [
    {
     "data": {
      "text/html": [
       "<div>\n",
       "<style scoped>\n",
       "    .dataframe tbody tr th:only-of-type {\n",
       "        vertical-align: middle;\n",
       "    }\n",
       "\n",
       "    .dataframe tbody tr th {\n",
       "        vertical-align: top;\n",
       "    }\n",
       "\n",
       "    .dataframe thead th {\n",
       "        text-align: right;\n",
       "    }\n",
       "</style>\n",
       "<table border=\"1\" class=\"dataframe\">\n",
       "  <thead>\n",
       "    <tr style=\"text-align: right;\">\n",
       "      <th></th>\n",
       "      <th>Total_amount</th>\n",
       "      <th>Invoice</th>\n",
       "      <th>Invoice_Date</th>\n",
       "      <th>Customer ID</th>\n",
       "    </tr>\n",
       "  </thead>\n",
       "  <tbody>\n",
       "    <tr>\n",
       "      <th>0</th>\n",
       "      <td>-51.74</td>\n",
       "      <td>45</td>\n",
       "      <td>66</td>\n",
       "      <td>12346.0</td>\n",
       "    </tr>\n",
       "    <tr>\n",
       "      <th>1</th>\n",
       "      <td>1323.32</td>\n",
       "      <td>71</td>\n",
       "      <td>2</td>\n",
       "      <td>12347.0</td>\n",
       "    </tr>\n",
       "    <tr>\n",
       "      <th>2</th>\n",
       "      <td>222.16</td>\n",
       "      <td>20</td>\n",
       "      <td>73</td>\n",
       "      <td>12348.0</td>\n",
       "    </tr>\n",
       "    <tr>\n",
       "      <th>3</th>\n",
       "      <td>2646.99</td>\n",
       "      <td>107</td>\n",
       "      <td>42</td>\n",
       "      <td>12349.0</td>\n",
       "    </tr>\n",
       "    <tr>\n",
       "      <th>4</th>\n",
       "      <td>300.93</td>\n",
       "      <td>21</td>\n",
       "      <td>10</td>\n",
       "      <td>12351.0</td>\n",
       "    </tr>\n",
       "    <tr>\n",
       "      <th>5</th>\n",
       "      <td>343.8</td>\n",
       "      <td>18</td>\n",
       "      <td>10</td>\n",
       "      <td>12352.0</td>\n",
       "    </tr>\n",
       "    <tr>\n",
       "      <th>6</th>\n",
       "      <td>317.76</td>\n",
       "      <td>20</td>\n",
       "      <td>43</td>\n",
       "      <td>12353.0</td>\n",
       "    </tr>\n",
       "    <tr>\n",
       "      <th>7</th>\n",
       "      <td>488.21</td>\n",
       "      <td>22</td>\n",
       "      <td>202</td>\n",
       "      <td>12355.0</td>\n",
       "    </tr>\n",
       "    <tr>\n",
       "      <th>8</th>\n",
       "      <td>3560.3</td>\n",
       "      <td>83</td>\n",
       "      <td>15</td>\n",
       "      <td>12356.0</td>\n",
       "    </tr>\n",
       "    <tr>\n",
       "      <th>9</th>\n",
       "      <td>2719.01</td>\n",
       "      <td>58</td>\n",
       "      <td>10</td>\n",
       "      <td>12358.0</td>\n",
       "    </tr>\n",
       "    <tr>\n",
       "      <th>10</th>\n",
       "      <td>2469.36</td>\n",
       "      <td>121</td>\n",
       "      <td>60</td>\n",
       "      <td>12359.0</td>\n",
       "    </tr>\n",
       "    <tr>\n",
       "      <th>11</th>\n",
       "      <td>1550.83</td>\n",
       "      <td>89</td>\n",
       "      <td>14</td>\n",
       "      <td>12360.0</td>\n",
       "    </tr>\n",
       "    <tr>\n",
       "      <th>12</th>\n",
       "      <td>321.35</td>\n",
       "      <td>19</td>\n",
       "      <td>97</td>\n",
       "      <td>12361.0</td>\n",
       "    </tr>\n",
       "    <tr>\n",
       "      <th>13</th>\n",
       "      <td>500.24</td>\n",
       "      <td>3</td>\n",
       "      <td>268</td>\n",
       "      <td>12366.0</td>\n",
       "    </tr>\n",
       "    <tr>\n",
       "      <th>14</th>\n",
       "      <td>917.7</td>\n",
       "      <td>18</td>\n",
       "      <td>263</td>\n",
       "      <td>12368.0</td>\n",
       "    </tr>\n",
       "    <tr>\n",
       "      <th>15</th>\n",
       "      <td>1791.15</td>\n",
       "      <td>93</td>\n",
       "      <td>48</td>\n",
       "      <td>12369.0</td>\n",
       "    </tr>\n",
       "    <tr>\n",
       "      <th>16</th>\n",
       "      <td>774.62</td>\n",
       "      <td>35</td>\n",
       "      <td>259</td>\n",
       "      <td>12370.0</td>\n",
       "    </tr>\n",
       "    <tr>\n",
       "      <th>17</th>\n",
       "      <td>2179.42</td>\n",
       "      <td>104</td>\n",
       "      <td>44</td>\n",
       "      <td>12371.0</td>\n",
       "    </tr>\n",
       "    <tr>\n",
       "      <th>18</th>\n",
       "      <td>763.05</td>\n",
       "      <td>37</td>\n",
       "      <td>259</td>\n",
       "      <td>12373.0</td>\n",
       "    </tr>\n",
       "    <tr>\n",
       "      <th>19</th>\n",
       "      <td>2246.29</td>\n",
       "      <td>50</td>\n",
       "      <td>56</td>\n",
       "      <td>12374.0</td>\n",
       "    </tr>\n",
       "    <tr>\n",
       "      <th>20</th>\n",
       "      <td>503.15</td>\n",
       "      <td>13</td>\n",
       "      <td>24</td>\n",
       "      <td>12376.0</td>\n",
       "    </tr>\n",
       "    <tr>\n",
       "      <th>21</th>\n",
       "      <td>1798.2</td>\n",
       "      <td>75</td>\n",
       "      <td>16</td>\n",
       "      <td>12377.0</td>\n",
       "    </tr>\n",
       "    <tr>\n",
       "      <th>22</th>\n",
       "      <td>1407.7</td>\n",
       "      <td>82</td>\n",
       "      <td>197</td>\n",
       "      <td>12378.0</td>\n",
       "    </tr>\n",
       "    <tr>\n",
       "      <th>23</th>\n",
       "      <td>767.98</td>\n",
       "      <td>41</td>\n",
       "      <td>57</td>\n",
       "      <td>12379.0</td>\n",
       "    </tr>\n",
       "    <tr>\n",
       "      <th>24</th>\n",
       "      <td>-18.38</td>\n",
       "      <td>1</td>\n",
       "      <td>317</td>\n",
       "      <td>12382.0</td>\n",
       "    </tr>\n",
       "    <tr>\n",
       "      <th>25</th>\n",
       "      <td>-18.38</td>\n",
       "      <td>1</td>\n",
       "      <td>317</td>\n",
       "      <td>17130.0</td>\n",
       "    </tr>\n",
       "    <tr>\n",
       "      <th>26</th>\n",
       "      <td>-18.38</td>\n",
       "      <td>1</td>\n",
       "      <td>317</td>\n",
       "      <td>12382.0</td>\n",
       "    </tr>\n",
       "    <tr>\n",
       "      <th>27</th>\n",
       "      <td>-18.38</td>\n",
       "      <td>1</td>\n",
       "      <td>317</td>\n",
       "      <td>17130.0</td>\n",
       "    </tr>\n",
       "    <tr>\n",
       "      <th>28</th>\n",
       "      <td>1923.4</td>\n",
       "      <td>66</td>\n",
       "      <td>14</td>\n",
       "      <td>12385.0</td>\n",
       "    </tr>\n",
       "    <tr>\n",
       "      <th>29</th>\n",
       "      <td>258.9</td>\n",
       "      <td>8</td>\n",
       "      <td>1</td>\n",
       "      <td>12386.0</td>\n",
       "    </tr>\n",
       "    <tr>\n",
       "      <th>...</th>\n",
       "      <td>...</td>\n",
       "      <td>...</td>\n",
       "      <td>...</td>\n",
       "      <td>...</td>\n",
       "    </tr>\n",
       "    <tr>\n",
       "      <th>3617</th>\n",
       "      <td>938.92</td>\n",
       "      <td>41</td>\n",
       "      <td>183</td>\n",
       "      <td>18252.0</td>\n",
       "    </tr>\n",
       "    <tr>\n",
       "      <th>3618</th>\n",
       "      <td>317.88</td>\n",
       "      <td>7</td>\n",
       "      <td>277</td>\n",
       "      <td>18253.0</td>\n",
       "    </tr>\n",
       "    <tr>\n",
       "      <th>3619</th>\n",
       "      <td>267.9</td>\n",
       "      <td>16</td>\n",
       "      <td>216</td>\n",
       "      <td>18254.0</td>\n",
       "    </tr>\n",
       "    <tr>\n",
       "      <th>3620</th>\n",
       "      <td>199.85</td>\n",
       "      <td>13</td>\n",
       "      <td>91</td>\n",
       "      <td>18255.0</td>\n",
       "    </tr>\n",
       "    <tr>\n",
       "      <th>3621</th>\n",
       "      <td>110.7</td>\n",
       "      <td>10</td>\n",
       "      <td>22</td>\n",
       "      <td>18256.0</td>\n",
       "    </tr>\n",
       "    <tr>\n",
       "      <th>3622</th>\n",
       "      <td>2231.42</td>\n",
       "      <td>165</td>\n",
       "      <td>81</td>\n",
       "      <td>18257.0</td>\n",
       "    </tr>\n",
       "    <tr>\n",
       "      <th>3623</th>\n",
       "      <td>2040.97</td>\n",
       "      <td>53</td>\n",
       "      <td>99</td>\n",
       "      <td>18258.0</td>\n",
       "    </tr>\n",
       "    <tr>\n",
       "      <th>3624</th>\n",
       "      <td>1979.6</td>\n",
       "      <td>50</td>\n",
       "      <td>1</td>\n",
       "      <td>18259.0</td>\n",
       "    </tr>\n",
       "    <tr>\n",
       "      <th>3625</th>\n",
       "      <td>428.06</td>\n",
       "      <td>29</td>\n",
       "      <td>28</td>\n",
       "      <td>18262.0</td>\n",
       "    </tr>\n",
       "    <tr>\n",
       "      <th>3626</th>\n",
       "      <td>603.25</td>\n",
       "      <td>36</td>\n",
       "      <td>133</td>\n",
       "      <td>18264.0</td>\n",
       "    </tr>\n",
       "    <tr>\n",
       "      <th>3627</th>\n",
       "      <td>251.1</td>\n",
       "      <td>14</td>\n",
       "      <td>69</td>\n",
       "      <td>18266.0</td>\n",
       "    </tr>\n",
       "    <tr>\n",
       "      <th>3628</th>\n",
       "      <td>252.87</td>\n",
       "      <td>20</td>\n",
       "      <td>294</td>\n",
       "      <td>18267.0</td>\n",
       "    </tr>\n",
       "    <tr>\n",
       "      <th>3629</th>\n",
       "      <td>1451.22</td>\n",
       "      <td>69</td>\n",
       "      <td>226</td>\n",
       "      <td>18268.0</td>\n",
       "    </tr>\n",
       "    <tr>\n",
       "      <th>3630</th>\n",
       "      <td>168.6</td>\n",
       "      <td>7</td>\n",
       "      <td>1</td>\n",
       "      <td>18269.0</td>\n",
       "    </tr>\n",
       "    <tr>\n",
       "      <th>3631</th>\n",
       "      <td>161.4</td>\n",
       "      <td>6</td>\n",
       "      <td>67</td>\n",
       "      <td>18270.0</td>\n",
       "    </tr>\n",
       "    <tr>\n",
       "      <th>3632</th>\n",
       "      <td>680.85</td>\n",
       "      <td>21</td>\n",
       "      <td>244</td>\n",
       "      <td>18271.0</td>\n",
       "    </tr>\n",
       "    <tr>\n",
       "      <th>3633</th>\n",
       "      <td>1282.55</td>\n",
       "      <td>62</td>\n",
       "      <td>64</td>\n",
       "      <td>18272.0</td>\n",
       "    </tr>\n",
       "    <tr>\n",
       "      <th>3634</th>\n",
       "      <td>153</td>\n",
       "      <td>1</td>\n",
       "      <td>225</td>\n",
       "      <td>18273.0</td>\n",
       "    </tr>\n",
       "    <tr>\n",
       "      <th>3635</th>\n",
       "      <td>741.85</td>\n",
       "      <td>19</td>\n",
       "      <td>213</td>\n",
       "      <td>18275.0</td>\n",
       "    </tr>\n",
       "    <tr>\n",
       "      <th>3636</th>\n",
       "      <td>1297.31</td>\n",
       "      <td>83</td>\n",
       "      <td>20</td>\n",
       "      <td>18276.0</td>\n",
       "    </tr>\n",
       "    <tr>\n",
       "      <th>3637</th>\n",
       "      <td>1013.75</td>\n",
       "      <td>59</td>\n",
       "      <td>23</td>\n",
       "      <td>18277.0</td>\n",
       "    </tr>\n",
       "    <tr>\n",
       "      <th>3638</th>\n",
       "      <td>240.3</td>\n",
       "      <td>15</td>\n",
       "      <td>39</td>\n",
       "      <td>18278.0</td>\n",
       "    </tr>\n",
       "    <tr>\n",
       "      <th>3639</th>\n",
       "      <td>231.34</td>\n",
       "      <td>13</td>\n",
       "      <td>154</td>\n",
       "      <td>18279.0</td>\n",
       "    </tr>\n",
       "    <tr>\n",
       "      <th>3640</th>\n",
       "      <td>291.85</td>\n",
       "      <td>22</td>\n",
       "      <td>15</td>\n",
       "      <td>18280.0</td>\n",
       "    </tr>\n",
       "    <tr>\n",
       "      <th>3641</th>\n",
       "      <td>120.32</td>\n",
       "      <td>10</td>\n",
       "      <td>212</td>\n",
       "      <td>18281.0</td>\n",
       "    </tr>\n",
       "    <tr>\n",
       "      <th>3642</th>\n",
       "      <td>619.37</td>\n",
       "      <td>217</td>\n",
       "      <td>17</td>\n",
       "      <td>18283.0</td>\n",
       "    </tr>\n",
       "    <tr>\n",
       "      <th>3643</th>\n",
       "      <td>436.68</td>\n",
       "      <td>29</td>\n",
       "      <td>64</td>\n",
       "      <td>18284.0</td>\n",
       "    </tr>\n",
       "    <tr>\n",
       "      <th>3644</th>\n",
       "      <td>427</td>\n",
       "      <td>12</td>\n",
       "      <td>295</td>\n",
       "      <td>18285.0</td>\n",
       "    </tr>\n",
       "    <tr>\n",
       "      <th>3645</th>\n",
       "      <td>1188.43</td>\n",
       "      <td>70</td>\n",
       "      <td>111</td>\n",
       "      <td>18286.0</td>\n",
       "    </tr>\n",
       "    <tr>\n",
       "      <th>3646</th>\n",
       "      <td>2340.61</td>\n",
       "      <td>86</td>\n",
       "      <td>17</td>\n",
       "      <td>18287.0</td>\n",
       "    </tr>\n",
       "  </tbody>\n",
       "</table>\n",
       "<p>3647 rows × 4 columns</p>\n",
       "</div>"
      ],
      "text/plain": [
       "     Total_amount Invoice Invoice_Date  Customer ID\n",
       "0          -51.74      45           66      12346.0\n",
       "1         1323.32      71            2      12347.0\n",
       "2          222.16      20           73      12348.0\n",
       "3         2646.99     107           42      12349.0\n",
       "4          300.93      21           10      12351.0\n",
       "5           343.8      18           10      12352.0\n",
       "6          317.76      20           43      12353.0\n",
       "7          488.21      22          202      12355.0\n",
       "8          3560.3      83           15      12356.0\n",
       "9         2719.01      58           10      12358.0\n",
       "10        2469.36     121           60      12359.0\n",
       "11        1550.83      89           14      12360.0\n",
       "12         321.35      19           97      12361.0\n",
       "13         500.24       3          268      12366.0\n",
       "14          917.7      18          263      12368.0\n",
       "15        1791.15      93           48      12369.0\n",
       "16         774.62      35          259      12370.0\n",
       "17        2179.42     104           44      12371.0\n",
       "18         763.05      37          259      12373.0\n",
       "19        2246.29      50           56      12374.0\n",
       "20         503.15      13           24      12376.0\n",
       "21         1798.2      75           16      12377.0\n",
       "22         1407.7      82          197      12378.0\n",
       "23         767.98      41           57      12379.0\n",
       "24         -18.38       1          317      12382.0\n",
       "25         -18.38       1          317      17130.0\n",
       "26         -18.38       1          317      12382.0\n",
       "27         -18.38       1          317      17130.0\n",
       "28         1923.4      66           14      12385.0\n",
       "29          258.9       8            1      12386.0\n",
       "...           ...     ...          ...          ...\n",
       "3617       938.92      41          183      18252.0\n",
       "3618       317.88       7          277      18253.0\n",
       "3619        267.9      16          216      18254.0\n",
       "3620       199.85      13           91      18255.0\n",
       "3621        110.7      10           22      18256.0\n",
       "3622      2231.42     165           81      18257.0\n",
       "3623      2040.97      53           99      18258.0\n",
       "3624       1979.6      50            1      18259.0\n",
       "3625       428.06      29           28      18262.0\n",
       "3626       603.25      36          133      18264.0\n",
       "3627        251.1      14           69      18266.0\n",
       "3628       252.87      20          294      18267.0\n",
       "3629      1451.22      69          226      18268.0\n",
       "3630        168.6       7            1      18269.0\n",
       "3631        161.4       6           67      18270.0\n",
       "3632       680.85      21          244      18271.0\n",
       "3633      1282.55      62           64      18272.0\n",
       "3634          153       1          225      18273.0\n",
       "3635       741.85      19          213      18275.0\n",
       "3636      1297.31      83           20      18276.0\n",
       "3637      1013.75      59           23      18277.0\n",
       "3638        240.3      15           39      18278.0\n",
       "3639       231.34      13          154      18279.0\n",
       "3640       291.85      22           15      18280.0\n",
       "3641       120.32      10          212      18281.0\n",
       "3642       619.37     217           17      18283.0\n",
       "3643       436.68      29           64      18284.0\n",
       "3644          427      12          295      18285.0\n",
       "3645      1188.43      70          111      18286.0\n",
       "3646      2340.61      86           17      18287.0\n",
       "\n",
       "[3647 rows x 4 columns]"
      ]
     },
     "execution_count": 44,
     "metadata": {},
     "output_type": "execute_result"
    }
   ],
   "source": [
    "final_data"
   ]
  },
  {
   "cell_type": "code",
   "execution_count": 45,
   "id": "57b7045c",
   "metadata": {
    "scrolled": false
   },
   "outputs": [
    {
     "data": {
      "image/png": "[encoded data removed]",
      "text/plain": [
       "<Figure size 1800x1656 with 4 Axes>"
      ]
     },
     "metadata": {
      "needs_background": "light"
     },
     "output_type": "display_data"
    }
   ],
   "source": [
    "plt.figure(figsize=(25,23))\n",
    "col = 1\n",
    "for feature in final_data:\n",
    "    plt.subplot(6,4, col)\n",
    "    sns.boxplot(final_data[feature],color = 'red')\n",
    "    col +=1"
   ]
  },
  {
   "cell_type": "code",
   "execution_count": 46,
   "id": "5a53c1c8",
   "metadata": {},
   "outputs": [],
   "source": [
    "from sklearn.preprocessing import StandardScaler\n",
    "ss=StandardScaler()"
   ]
  },
  {
   "cell_type": "code",
   "execution_count": 47,
   "id": "82546e49",
   "metadata": {},
   "outputs": [],
   "source": [
    "scaled = ss.fit_transform(final_data)"
   ]
  },
  {
   "cell_type": "code",
   "execution_count": 48,
   "id": "6e9f0636",
   "metadata": {},
   "outputs": [
    {
     "data": {
      "text/plain": [
       "(3647, 4)"
      ]
     },
     "execution_count": 48,
     "metadata": {},
     "output_type": "execute_result"
    }
   ],
   "source": [
    "scaled.shape"
   ]
  },
  {
   "cell_type": "code",
   "execution_count": 49,
   "id": "1a3b3780",
   "metadata": {},
   "outputs": [],
   "source": [
    "scaled_values = pd.DataFrame(scaled)"
   ]
  },
  {
   "cell_type": "code",
   "execution_count": 50,
   "id": "0ccb2bc5",
   "metadata": {},
   "outputs": [],
   "source": [
    "scaled_values.columns=['Total_amount','Invoice','Invoice_date','Customer_ID']"
   ]
  },
  {
   "cell_type": "code",
   "execution_count": 51,
   "id": "a2c03b55",
   "metadata": {},
   "outputs": [
    {
     "data": {
      "text/html": [
       "<div>\n",
       "<style scoped>\n",
       "    .dataframe tbody tr th:only-of-type {\n",
       "        vertical-align: middle;\n",
       "    }\n",
       "\n",
       "    .dataframe tbody tr th {\n",
       "        vertical-align: top;\n",
       "    }\n",
       "\n",
       "    .dataframe thead th {\n",
       "        text-align: right;\n",
       "    }\n",
       "</style>\n",
       "<table border=\"1\" class=\"dataframe\">\n",
       "  <thead>\n",
       "    <tr style=\"text-align: right;\">\n",
       "      <th></th>\n",
       "      <th>Total_amount</th>\n",
       "      <th>Invoice</th>\n",
       "      <th>Invoice_date</th>\n",
       "      <th>Customer_ID</th>\n",
       "    </tr>\n",
       "  </thead>\n",
       "  <tbody>\n",
       "    <tr>\n",
       "      <th>0</th>\n",
       "      <td>-0.900762</td>\n",
       "      <td>-0.168769</td>\n",
       "      <td>-0.267114</td>\n",
       "      <td>-1.768593</td>\n",
       "    </tr>\n",
       "    <tr>\n",
       "      <th>1</th>\n",
       "      <td>0.539188</td>\n",
       "      <td>0.355027</td>\n",
       "      <td>-0.999516</td>\n",
       "      <td>-1.768006</td>\n",
       "    </tr>\n",
       "    <tr>\n",
       "      <th>2</th>\n",
       "      <td>-0.613936</td>\n",
       "      <td>-0.672418</td>\n",
       "      <td>-0.187007</td>\n",
       "      <td>-1.767418</td>\n",
       "    </tr>\n",
       "    <tr>\n",
       "      <th>3</th>\n",
       "      <td>1.925322</td>\n",
       "      <td>1.080282</td>\n",
       "      <td>-0.541764</td>\n",
       "      <td>-1.766830</td>\n",
       "    </tr>\n",
       "    <tr>\n",
       "      <th>4</th>\n",
       "      <td>-0.531449</td>\n",
       "      <td>-0.652272</td>\n",
       "      <td>-0.907965</td>\n",
       "      <td>-1.765655</td>\n",
       "    </tr>\n",
       "  </tbody>\n",
       "</table>\n",
       "</div>"
      ],
      "text/plain": [
       "   Total_amount   Invoice  Invoice_date  Customer_ID\n",
       "0     -0.900762 -0.168769     -0.267114    -1.768593\n",
       "1      0.539188  0.355027     -0.999516    -1.768006\n",
       "2     -0.613936 -0.672418     -0.187007    -1.767418\n",
       "3      1.925322  1.080282     -0.541764    -1.766830\n",
       "4     -0.531449 -0.652272     -0.907965    -1.765655"
      ]
     },
     "execution_count": 51,
     "metadata": {},
     "output_type": "execute_result"
    }
   ],
   "source": [
    "scaled_values.head()"
   ]
  },
  {
   "cell_type": "code",
   "execution_count": 65,
   "id": "209df01c",
   "metadata": {},
   "outputs": [
    {
     "data": {
      "image/png": "[encoded data removed]",
      "text/plain": [
       "<Figure size 432x288 with 1 Axes>"
      ]
     },
     "metadata": {
      "needs_background": "light"
     },
     "output_type": "display_data"
    }
   ],
   "source": [
    "from sklearn.cluster import KMeans\n",
    "wcss=[]\n",
    "for i in range (1,8):\n",
    "    kmeans=KMeans(n_clusters=i,init='k-means++')\n",
    "    kmeans.fit(scaled_values)\n",
    "    # inertia_ gives wcss value w.r.t diffrent difrrent k value\n",
    "    wcss.append(kmeans.inertia_)\n",
    "    \n",
    "plt.plot(range(1,8),wcss)\n",
    "plt.title('The elbow method')\n",
    "plt.xlabel('Number of clusters')\n",
    "plt.ylabel('Wcss')\n",
    "plt.show()"
   ]
  },
  {
   "cell_type": "code",
   "execution_count": 63,
   "id": "cece0d94",
   "metadata": {},
   "outputs": [
    {
     "name": "stdout",
     "output_type": "stream",
     "text": [
      "for cluster2 the silhouette_score is0.30076717404994796\n",
      "for cluster3 the silhouette_score is0.3101752823267633\n",
      "for cluster4 the silhouette_score is0.3136774240698989\n",
      "for cluster5 the silhouette_score is0.3076775129829221\n",
      "for cluster6 the silhouette_score is0.3087550137689771\n",
      "for cluster7 the silhouette_score is0.2969113613238748\n"
     ]
    }
   ],
   "source": [
    "from sklearn.metrics import silhouette_score\n",
    "\n",
    "for i in range(2,8):\n",
    "    kmeans=KMeans(n_clusters=i,init='k-means++')\n",
    "    kmeans.fit(scaled_values)\n",
    "    cluster_labels = kmeans.labels_\n",
    "#     print(cluster_labels)\n",
    "    silhoutte_avg = silhouette_score(scaled_values,cluster_labels)\n",
    "    print('for cluster{} the silhouette_score is{}'.format(i,silhoutte_avg))\n",
    "    "
   ]
  },
  {
   "cell_type": "markdown",
   "id": "1b2cc5c7",
   "metadata": {},
   "source": [
    "From the above elbow graphs and silhouette scores we can take ‘3’ as our k value for number of clusters."
   ]
  },
  {
   "cell_type": "code",
   "execution_count": 54,
   "id": "1376ecf9",
   "metadata": {},
   "outputs": [
    {
     "data": {
      "text/plain": [
       "KMeans(n_clusters=3)"
      ]
     },
     "execution_count": 54,
     "metadata": {},
     "output_type": "execute_result"
    }
   ],
   "source": [
    "#final_model\n",
    "kmeans=KMeans(n_clusters=3,init='k-means++')\n",
    "kmeans.fit(scaled_values)"
   ]
  },
  {
   "cell_type": "code",
   "execution_count": 55,
   "id": "6738a27f",
   "metadata": {},
   "outputs": [],
   "source": [
    "clusters=kmeans.labels_"
   ]
  },
  {
   "cell_type": "code",
   "execution_count": 56,
   "id": "bfa3eaf2",
   "metadata": {},
   "outputs": [],
   "source": [
    "final_data['Clusters']=clusters"
   ]
  },
  {
   "cell_type": "code",
   "execution_count": 57,
   "id": "a596a7ff",
   "metadata": {},
   "outputs": [
    {
     "data": {
      "text/plain": [
       "array([0, 1, 2], dtype=int64)"
      ]
     },
     "execution_count": 57,
     "metadata": {},
     "output_type": "execute_result"
    }
   ],
   "source": [
    "final_data['Clusters'].unique()"
   ]
  },
  {
   "cell_type": "code",
   "execution_count": 58,
   "id": "db41647f",
   "metadata": {},
   "outputs": [
    {
     "data": {
      "text/html": [
       "<div>\n",
       "<style scoped>\n",
       "    .dataframe tbody tr th:only-of-type {\n",
       "        vertical-align: middle;\n",
       "    }\n",
       "\n",
       "    .dataframe tbody tr th {\n",
       "        vertical-align: top;\n",
       "    }\n",
       "\n",
       "    .dataframe thead th {\n",
       "        text-align: right;\n",
       "    }\n",
       "</style>\n",
       "<table border=\"1\" class=\"dataframe\">\n",
       "  <thead>\n",
       "    <tr style=\"text-align: right;\">\n",
       "      <th></th>\n",
       "      <th>Total_amount</th>\n",
       "      <th>Invoice</th>\n",
       "      <th>Invoice_Date</th>\n",
       "      <th>Customer ID</th>\n",
       "      <th>Clusters</th>\n",
       "    </tr>\n",
       "  </thead>\n",
       "  <tbody>\n",
       "    <tr>\n",
       "      <th>0</th>\n",
       "      <td>-51.74</td>\n",
       "      <td>45</td>\n",
       "      <td>66</td>\n",
       "      <td>12346.0</td>\n",
       "      <td>0</td>\n",
       "    </tr>\n",
       "    <tr>\n",
       "      <th>1</th>\n",
       "      <td>1323.32</td>\n",
       "      <td>71</td>\n",
       "      <td>2</td>\n",
       "      <td>12347.0</td>\n",
       "      <td>0</td>\n",
       "    </tr>\n",
       "    <tr>\n",
       "      <th>2</th>\n",
       "      <td>222.16</td>\n",
       "      <td>20</td>\n",
       "      <td>73</td>\n",
       "      <td>12348.0</td>\n",
       "      <td>0</td>\n",
       "    </tr>\n",
       "    <tr>\n",
       "      <th>3</th>\n",
       "      <td>2646.99</td>\n",
       "      <td>107</td>\n",
       "      <td>42</td>\n",
       "      <td>12349.0</td>\n",
       "      <td>1</td>\n",
       "    </tr>\n",
       "    <tr>\n",
       "      <th>4</th>\n",
       "      <td>300.93</td>\n",
       "      <td>21</td>\n",
       "      <td>10</td>\n",
       "      <td>12351.0</td>\n",
       "      <td>0</td>\n",
       "    </tr>\n",
       "  </tbody>\n",
       "</table>\n",
       "</div>"
      ],
      "text/plain": [
       "  Total_amount Invoice Invoice_Date  Customer ID  Clusters\n",
       "0       -51.74      45           66      12346.0         0\n",
       "1      1323.32      71            2      12347.0         0\n",
       "2       222.16      20           73      12348.0         0\n",
       "3      2646.99     107           42      12349.0         1\n",
       "4       300.93      21           10      12351.0         0"
      ]
     },
     "execution_count": 58,
     "metadata": {},
     "output_type": "execute_result"
    }
   ],
   "source": [
    "final_data.head()"
   ]
  },
  {
   "cell_type": "code",
   "execution_count": 59,
   "id": "1d28dee8",
   "metadata": {},
   "outputs": [
    {
     "data": {
      "image/png": "[encoded data removed]",
      "text/plain": [
       "<Figure size 432x288 with 1 Axes>"
      ]
     },
     "metadata": {
      "needs_background": "light"
     },
     "output_type": "display_data"
    }
   ],
   "source": [
    "sns.barplot(x='Clusters',y='Total_amount',data=final_data)\n",
    "plt.title(\"Clusters based on Amount Spent\")\n",
    "plt.show()"
   ]
  },
  {
   "cell_type": "code",
   "execution_count": 60,
   "id": "c942a1a2",
   "metadata": {},
   "outputs": [
    {
     "data": {
      "image/png": "[encoded data removed]",
      "text/plain": [
       "<Figure size 432x288 with 1 Axes>"
      ]
     },
     "metadata": {
      "needs_background": "light"
     },
     "output_type": "display_data"
    }
   ],
   "source": [
    "sns.barplot(x='Clusters',y='Invoice',data=final_data)\n",
    "plt.title(\"Clusters based on No of Transactions\")\n",
    "plt.show()"
   ]
  },
  {
   "cell_type": "code",
   "execution_count": 61,
   "id": "0a3ee447",
   "metadata": {},
   "outputs": [
    {
     "data": {
      "image/png": "[encoded data removed]",
      "text/plain": [
       "<Figure size 432x288 with 1 Axes>"
      ]
     },
     "metadata": {
      "needs_background": "light"
     },
     "output_type": "display_data"
    }
   ],
   "source": [
    "sns.barplot(x='Clusters',y='Invoice_Date',data=final_data)\n",
    "plt.title(\"Clusters based on customer last seen\")\n",
    "plt.show()"
   ]
  },
  {
   "cell_type": "code",
   "execution_count": null,
   "id": "dd26eb5f",
   "metadata": {},
   "outputs": [],
   "source": []
  },
  {
   "cell_type": "code",
   "execution_count": null,
   "id": "f62a3ee9",
   "metadata": {},
   "outputs": [],
   "source": []
  }
 ],
 "metadata": {
  "kernelspec": {
   "display_name": "Python 3 (ipykernel)",
   "language": "python",
   "name": "python3"
  },
  "language_info": {
   "codemirror_mode": {
    "name": "ipython",
    "version": 3
   },
   "file_extension": ".py",
   "mimetype": "text/x-python",
   "name": "python",
   "nbconvert_exporter": "python",
   "pygments_lexer": "ipython3",
   "version": "3.7.3"
  }
 },
 "nbformat": 4,
 "nbformat_minor": 5
}
